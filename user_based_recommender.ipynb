{
 "cells": [
  {
   "cell_type": "code",
   "execution_count": 1,
   "outputs": [],
   "source": [
    "# Import necessary libraries\n",
    "import pandas as pd"
   ],
   "metadata": {
    "collapsed": false,
    "ExecuteTime": {
     "end_time": "2023-11-23T20:56:20.280123Z",
     "start_time": "2023-11-23T20:56:19.108344Z"
    }
   },
   "id": "1f08a7a0c60adf2d"
  },
  {
   "cell_type": "markdown",
   "source": [
    "# 1. Introduction"
   ],
   "metadata": {
    "collapsed": false
   },
   "id": "7484a798b86591a"
  },
  {
   "cell_type": "markdown",
   "source": [
    "## 1.1 Business Problem\n",
    "\n",
    "The task is to make predictions for a user with a given ID using user-based recommendation methods. 5 recommendations should be provided."
   ],
   "metadata": {
    "collapsed": false
   },
   "id": "31a93fa1714b9fd7"
  },
  {
   "cell_type": "markdown",
   "source": [
    "## 1.2 Dataset Story\n",
    "\n",
    "The dataset has been furnished by MovieLens, a movie recommendation service. It comprises movies accompanied by the\n",
    "respective rating scores assigned to them. In total, the dataset incorporates 20,000,263 ratings spanning across 27,278\n",
    "movies. The dataset was curated on October 17, 2016, capturing data from 138,493 users within the period from January 9,\n",
    "1995, to March 31, 2015. The users were selected at random, and it is noted that each of the chosen users has provided\n",
    "ratings for a minimum of 20 movies."
   ],
   "metadata": {
    "collapsed": false
   },
   "id": "eee87a86d41bf3ad"
  },
  {
   "cell_type": "markdown",
   "source": [
    "## 1.3 Features\n",
    "\n",
    "`movie.csv`\n",
    "\n",
    "- `movieId` - Unique movie identifier\n",
    "- `title` - Movie title\n",
    "- `genres` - Genre\n",
    "\n",
    "`rating.csv`\n",
    "\n",
    "- `userid` - Unique user identifier\n",
    "- `movieId` - Unique movie identifier\n",
    "- `rating` - User-assigned rating for the film\n",
    "- `timestamp` - Date of the rating"
   ],
   "metadata": {
    "collapsed": false
   },
   "id": "7c5b1ac307ffc499"
  },
  {
   "cell_type": "markdown",
   "source": [
    "# 2. Data Handling"
   ],
   "metadata": {
    "collapsed": false
   },
   "id": "8d90294e8e35fbab"
  },
  {
   "cell_type": "markdown",
   "source": [
    "## 2.1 Loading Data"
   ],
   "metadata": {
    "collapsed": false
   },
   "id": "554e89e70fd8463a"
  },
  {
   "cell_type": "code",
   "execution_count": 2,
   "outputs": [],
   "source": [
    "# Load the dataset\n",
    "movies = pd.read_csv('movie.csv')\n",
    "ratings = pd.read_csv('rating.csv', parse_dates=['timestamp'])"
   ],
   "metadata": {
    "collapsed": false,
    "ExecuteTime": {
     "end_time": "2023-11-23T20:57:24.510734Z",
     "start_time": "2023-11-23T20:56:20.246722Z"
    }
   },
   "id": "4f93d159c1a71108"
  },
  {
   "cell_type": "code",
   "execution_count": 3,
   "outputs": [
    {
     "data": {
      "text/plain": "   movieId                               title  \\\n0        1                    Toy Story (1995)   \n1        2                      Jumanji (1995)   \n2        3             Grumpier Old Men (1995)   \n3        4            Waiting to Exhale (1995)   \n4        5  Father of the Bride Part II (1995)   \n\n                                        genres  \n0  Adventure|Animation|Children|Comedy|Fantasy  \n1                   Adventure|Children|Fantasy  \n2                               Comedy|Romance  \n3                         Comedy|Drama|Romance  \n4                                       Comedy  ",
      "text/html": "<div>\n<style scoped>\n    .dataframe tbody tr th:only-of-type {\n        vertical-align: middle;\n    }\n\n    .dataframe tbody tr th {\n        vertical-align: top;\n    }\n\n    .dataframe thead th {\n        text-align: right;\n    }\n</style>\n<table border=\"1\" class=\"dataframe\">\n  <thead>\n    <tr style=\"text-align: right;\">\n      <th></th>\n      <th>movieId</th>\n      <th>title</th>\n      <th>genres</th>\n    </tr>\n  </thead>\n  <tbody>\n    <tr>\n      <th>0</th>\n      <td>1</td>\n      <td>Toy Story (1995)</td>\n      <td>Adventure|Animation|Children|Comedy|Fantasy</td>\n    </tr>\n    <tr>\n      <th>1</th>\n      <td>2</td>\n      <td>Jumanji (1995)</td>\n      <td>Adventure|Children|Fantasy</td>\n    </tr>\n    <tr>\n      <th>2</th>\n      <td>3</td>\n      <td>Grumpier Old Men (1995)</td>\n      <td>Comedy|Romance</td>\n    </tr>\n    <tr>\n      <th>3</th>\n      <td>4</td>\n      <td>Waiting to Exhale (1995)</td>\n      <td>Comedy|Drama|Romance</td>\n    </tr>\n    <tr>\n      <th>4</th>\n      <td>5</td>\n      <td>Father of the Bride Part II (1995)</td>\n      <td>Comedy</td>\n    </tr>\n  </tbody>\n</table>\n</div>"
     },
     "execution_count": 3,
     "metadata": {},
     "output_type": "execute_result"
    }
   ],
   "source": [
    "# Display the first few rows\n",
    "movies.head()"
   ],
   "metadata": {
    "collapsed": false,
    "ExecuteTime": {
     "end_time": "2023-11-23T20:57:24.532739Z",
     "start_time": "2023-11-23T20:57:24.483611Z"
    }
   },
   "id": "48cba139d83b65a0"
  },
  {
   "cell_type": "code",
   "execution_count": 4,
   "outputs": [
    {
     "data": {
      "text/plain": "   userId  movieId  rating           timestamp\n0       1        2     3.5 2005-04-02 23:53:47\n1       1       29     3.5 2005-04-02 23:31:16\n2       1       32     3.5 2005-04-02 23:33:39\n3       1       47     3.5 2005-04-02 23:32:07\n4       1       50     3.5 2005-04-02 23:29:40",
      "text/html": "<div>\n<style scoped>\n    .dataframe tbody tr th:only-of-type {\n        vertical-align: middle;\n    }\n\n    .dataframe tbody tr th {\n        vertical-align: top;\n    }\n\n    .dataframe thead th {\n        text-align: right;\n    }\n</style>\n<table border=\"1\" class=\"dataframe\">\n  <thead>\n    <tr style=\"text-align: right;\">\n      <th></th>\n      <th>userId</th>\n      <th>movieId</th>\n      <th>rating</th>\n      <th>timestamp</th>\n    </tr>\n  </thead>\n  <tbody>\n    <tr>\n      <th>0</th>\n      <td>1</td>\n      <td>2</td>\n      <td>3.5</td>\n      <td>2005-04-02 23:53:47</td>\n    </tr>\n    <tr>\n      <th>1</th>\n      <td>1</td>\n      <td>29</td>\n      <td>3.5</td>\n      <td>2005-04-02 23:31:16</td>\n    </tr>\n    <tr>\n      <th>2</th>\n      <td>1</td>\n      <td>32</td>\n      <td>3.5</td>\n      <td>2005-04-02 23:33:39</td>\n    </tr>\n    <tr>\n      <th>3</th>\n      <td>1</td>\n      <td>47</td>\n      <td>3.5</td>\n      <td>2005-04-02 23:32:07</td>\n    </tr>\n    <tr>\n      <th>4</th>\n      <td>1</td>\n      <td>50</td>\n      <td>3.5</td>\n      <td>2005-04-02 23:29:40</td>\n    </tr>\n  </tbody>\n</table>\n</div>"
     },
     "execution_count": 4,
     "metadata": {},
     "output_type": "execute_result"
    }
   ],
   "source": [
    "# Display the first few rows\n",
    "ratings.head()"
   ],
   "metadata": {
    "collapsed": false,
    "ExecuteTime": {
     "end_time": "2023-11-23T20:57:24.533362Z",
     "start_time": "2023-11-23T20:57:24.500725Z"
    }
   },
   "id": "e8706c592b29ba40"
  },
  {
   "cell_type": "markdown",
   "source": [
    "## 2.2 Inspecting Data"
   ],
   "metadata": {
    "collapsed": false
   },
   "id": "62fd2ab7ff461602"
  },
  {
   "cell_type": "code",
   "execution_count": 6,
   "outputs": [
    {
     "data": {
      "text/plain": "             movieId\ncount   27278.000000\nmean    59855.480570\nstd     44429.314697\nmin         1.000000\n25%      6931.250000\n50%     68068.000000\n75%    100293.250000\nmax    131262.000000",
      "text/html": "<div>\n<style scoped>\n    .dataframe tbody tr th:only-of-type {\n        vertical-align: middle;\n    }\n\n    .dataframe tbody tr th {\n        vertical-align: top;\n    }\n\n    .dataframe thead th {\n        text-align: right;\n    }\n</style>\n<table border=\"1\" class=\"dataframe\">\n  <thead>\n    <tr style=\"text-align: right;\">\n      <th></th>\n      <th>movieId</th>\n    </tr>\n  </thead>\n  <tbody>\n    <tr>\n      <th>count</th>\n      <td>27278.000000</td>\n    </tr>\n    <tr>\n      <th>mean</th>\n      <td>59855.480570</td>\n    </tr>\n    <tr>\n      <th>std</th>\n      <td>44429.314697</td>\n    </tr>\n    <tr>\n      <th>min</th>\n      <td>1.000000</td>\n    </tr>\n    <tr>\n      <th>25%</th>\n      <td>6931.250000</td>\n    </tr>\n    <tr>\n      <th>50%</th>\n      <td>68068.000000</td>\n    </tr>\n    <tr>\n      <th>75%</th>\n      <td>100293.250000</td>\n    </tr>\n    <tr>\n      <th>max</th>\n      <td>131262.000000</td>\n    </tr>\n  </tbody>\n</table>\n</div>"
     },
     "execution_count": 6,
     "metadata": {},
     "output_type": "execute_result"
    }
   ],
   "source": [
    "# Display basic statistics about the dataset\n",
    "movies.describe()"
   ],
   "metadata": {
    "collapsed": false,
    "ExecuteTime": {
     "end_time": "2023-11-23T20:57:25.042631Z",
     "start_time": "2023-11-23T20:57:24.918515Z"
    }
   },
   "id": "f923bd99d6f1fb7a"
  },
  {
   "cell_type": "code",
   "execution_count": 7,
   "outputs": [
    {
     "data": {
      "text/plain": "             userId       movieId        rating\ncount  2.000026e+07  2.000026e+07  2.000026e+07\nmean   6.904587e+04  9.041567e+03  3.525529e+00\nstd    4.003863e+04  1.978948e+04  1.051989e+00\nmin    1.000000e+00  1.000000e+00  5.000000e-01\n25%    3.439500e+04  9.020000e+02  3.000000e+00\n50%    6.914100e+04  2.167000e+03  3.500000e+00\n75%    1.036370e+05  4.770000e+03  4.000000e+00\nmax    1.384930e+05  1.312620e+05  5.000000e+00",
      "text/html": "<div>\n<style scoped>\n    .dataframe tbody tr th:only-of-type {\n        vertical-align: middle;\n    }\n\n    .dataframe tbody tr th {\n        vertical-align: top;\n    }\n\n    .dataframe thead th {\n        text-align: right;\n    }\n</style>\n<table border=\"1\" class=\"dataframe\">\n  <thead>\n    <tr style=\"text-align: right;\">\n      <th></th>\n      <th>userId</th>\n      <th>movieId</th>\n      <th>rating</th>\n    </tr>\n  </thead>\n  <tbody>\n    <tr>\n      <th>count</th>\n      <td>2.000026e+07</td>\n      <td>2.000026e+07</td>\n      <td>2.000026e+07</td>\n    </tr>\n    <tr>\n      <th>mean</th>\n      <td>6.904587e+04</td>\n      <td>9.041567e+03</td>\n      <td>3.525529e+00</td>\n    </tr>\n    <tr>\n      <th>std</th>\n      <td>4.003863e+04</td>\n      <td>1.978948e+04</td>\n      <td>1.051989e+00</td>\n    </tr>\n    <tr>\n      <th>min</th>\n      <td>1.000000e+00</td>\n      <td>1.000000e+00</td>\n      <td>5.000000e-01</td>\n    </tr>\n    <tr>\n      <th>25%</th>\n      <td>3.439500e+04</td>\n      <td>9.020000e+02</td>\n      <td>3.000000e+00</td>\n    </tr>\n    <tr>\n      <th>50%</th>\n      <td>6.914100e+04</td>\n      <td>2.167000e+03</td>\n      <td>3.500000e+00</td>\n    </tr>\n    <tr>\n      <th>75%</th>\n      <td>1.036370e+05</td>\n      <td>4.770000e+03</td>\n      <td>4.000000e+00</td>\n    </tr>\n    <tr>\n      <th>max</th>\n      <td>1.384930e+05</td>\n      <td>1.312620e+05</td>\n      <td>5.000000e+00</td>\n    </tr>\n  </tbody>\n</table>\n</div>"
     },
     "execution_count": 7,
     "metadata": {},
     "output_type": "execute_result"
    }
   ],
   "source": [
    "# Display basic statistics about the dataset\n",
    "ratings.describe()"
   ],
   "metadata": {
    "collapsed": false,
    "ExecuteTime": {
     "end_time": "2023-11-23T20:57:27.208200Z",
     "start_time": "2023-11-23T20:57:24.944568Z"
    }
   },
   "id": "76d50a5286797291"
  },
  {
   "cell_type": "code",
   "execution_count": 8,
   "outputs": [
    {
     "name": "stdout",
     "output_type": "stream",
     "text": [
      "<class 'pandas.core.frame.DataFrame'>\n",
      "RangeIndex: 27278 entries, 0 to 27277\n",
      "Data columns (total 3 columns):\n",
      " #   Column   Non-Null Count  Dtype \n",
      "---  ------   --------------  ----- \n",
      " 0   movieId  27278 non-null  int64 \n",
      " 1   title    27278 non-null  object\n",
      " 2   genres   27278 non-null  object\n",
      "dtypes: int64(1), object(2)\n",
      "memory usage: 639.5+ KB\n"
     ]
    }
   ],
   "source": [
    "# Display information about the dataset\n",
    "movies.info()"
   ],
   "metadata": {
    "collapsed": false,
    "ExecuteTime": {
     "end_time": "2023-11-23T20:57:27.271349Z",
     "start_time": "2023-11-23T20:57:27.232041Z"
    }
   },
   "id": "96640ca79af63953"
  },
  {
   "cell_type": "code",
   "execution_count": 9,
   "outputs": [
    {
     "name": "stdout",
     "output_type": "stream",
     "text": [
      "<class 'pandas.core.frame.DataFrame'>\n",
      "RangeIndex: 20000263 entries, 0 to 20000262\n",
      "Data columns (total 4 columns):\n",
      " #   Column     Dtype         \n",
      "---  ------     -----         \n",
      " 0   userId     int64         \n",
      " 1   movieId    int64         \n",
      " 2   rating     float64       \n",
      " 3   timestamp  datetime64[ns]\n",
      "dtypes: datetime64[ns](1), float64(1), int64(2)\n",
      "memory usage: 610.4 MB\n"
     ]
    }
   ],
   "source": [
    "# Display information about the dataset\n",
    "ratings.info()"
   ],
   "metadata": {
    "collapsed": false,
    "ExecuteTime": {
     "end_time": "2023-11-23T20:57:27.298042Z",
     "start_time": "2023-11-23T20:57:27.244907Z"
    }
   },
   "id": "7ff091083e51d167"
  },
  {
   "cell_type": "code",
   "execution_count": 10,
   "outputs": [
    {
     "data": {
      "text/plain": "movieId    False\ntitle      False\ngenres     False\ndtype: bool"
     },
     "execution_count": 10,
     "metadata": {},
     "output_type": "execute_result"
    }
   ],
   "source": [
    "# Identify columns with null values\n",
    "movies.isnull().any()"
   ],
   "metadata": {
    "collapsed": false,
    "ExecuteTime": {
     "end_time": "2023-11-23T20:57:27.327088Z",
     "start_time": "2023-11-23T20:57:27.257473Z"
    }
   },
   "id": "dc246c28c52ea535"
  },
  {
   "cell_type": "code",
   "execution_count": 11,
   "outputs": [
    {
     "data": {
      "text/plain": "userId       False\nmovieId      False\nrating       False\ntimestamp    False\ndtype: bool"
     },
     "execution_count": 11,
     "metadata": {},
     "output_type": "execute_result"
    }
   ],
   "source": [
    "# Identify columns with null values\n",
    "ratings.isnull().any()"
   ],
   "metadata": {
    "collapsed": false,
    "ExecuteTime": {
     "end_time": "2023-11-23T20:57:27.446246Z",
     "start_time": "2023-11-23T20:57:27.276001Z"
    }
   },
   "id": "66bfb4db8b652dda"
  },
  {
   "cell_type": "code",
   "execution_count": 12,
   "outputs": [
    {
     "data": {
      "text/plain": "movieId    27278\ntitle      27262\ngenres      1342\ndtype: int64"
     },
     "execution_count": 12,
     "metadata": {},
     "output_type": "execute_result"
    }
   ],
   "source": [
    "# Get the number of unique values in each column\n",
    "movies.nunique()"
   ],
   "metadata": {
    "collapsed": false,
    "ExecuteTime": {
     "end_time": "2023-11-23T20:57:27.447382Z",
     "start_time": "2023-11-23T20:57:27.378288Z"
    }
   },
   "id": "50ea734647c6d330"
  },
  {
   "cell_type": "code",
   "execution_count": 13,
   "outputs": [
    {
     "data": {
      "text/plain": "userId         138493\nmovieId         26744\nrating             10\ntimestamp    15351121\ndtype: int64"
     },
     "execution_count": 13,
     "metadata": {},
     "output_type": "execute_result"
    }
   ],
   "source": [
    "# Get the number of unique values in each column\n",
    "ratings.nunique()"
   ],
   "metadata": {
    "collapsed": false,
    "ExecuteTime": {
     "end_time": "2023-11-23T20:57:33.205085Z",
     "start_time": "2023-11-23T20:57:27.438638Z"
    }
   },
   "id": "83a35c8a62465c54"
  },
  {
   "cell_type": "markdown",
   "source": [
    "## 2.3 Data Cleaning and Preprocessing"
   ],
   "metadata": {
    "collapsed": false
   },
   "id": "fbbda452b15809b9"
  },
  {
   "cell_type": "code",
   "execution_count": 14,
   "outputs": [
    {
     "data": {
      "text/plain": "   userId  movieId  rating           timestamp  \\\n0       1        2     3.5 2005-04-02 23:53:47   \n1       1       29     3.5 2005-04-02 23:31:16   \n2       1       32     3.5 2005-04-02 23:33:39   \n3       1       47     3.5 2005-04-02 23:32:07   \n4       1       50     3.5 2005-04-02 23:29:40   \n\n                                               title  \\\n0                                     Jumanji (1995)   \n1  City of Lost Children, The (Cité des enfants p...   \n2          Twelve Monkeys (a.k.a. 12 Monkeys) (1995)   \n3                        Seven (a.k.a. Se7en) (1995)   \n4                         Usual Suspects, The (1995)   \n\n                                   genres  \n0              Adventure|Children|Fantasy  \n1  Adventure|Drama|Fantasy|Mystery|Sci-Fi  \n2                 Mystery|Sci-Fi|Thriller  \n3                        Mystery|Thriller  \n4                  Crime|Mystery|Thriller  ",
      "text/html": "<div>\n<style scoped>\n    .dataframe tbody tr th:only-of-type {\n        vertical-align: middle;\n    }\n\n    .dataframe tbody tr th {\n        vertical-align: top;\n    }\n\n    .dataframe thead th {\n        text-align: right;\n    }\n</style>\n<table border=\"1\" class=\"dataframe\">\n  <thead>\n    <tr style=\"text-align: right;\">\n      <th></th>\n      <th>userId</th>\n      <th>movieId</th>\n      <th>rating</th>\n      <th>timestamp</th>\n      <th>title</th>\n      <th>genres</th>\n    </tr>\n  </thead>\n  <tbody>\n    <tr>\n      <th>0</th>\n      <td>1</td>\n      <td>2</td>\n      <td>3.5</td>\n      <td>2005-04-02 23:53:47</td>\n      <td>Jumanji (1995)</td>\n      <td>Adventure|Children|Fantasy</td>\n    </tr>\n    <tr>\n      <th>1</th>\n      <td>1</td>\n      <td>29</td>\n      <td>3.5</td>\n      <td>2005-04-02 23:31:16</td>\n      <td>City of Lost Children, The (Cité des enfants p...</td>\n      <td>Adventure|Drama|Fantasy|Mystery|Sci-Fi</td>\n    </tr>\n    <tr>\n      <th>2</th>\n      <td>1</td>\n      <td>32</td>\n      <td>3.5</td>\n      <td>2005-04-02 23:33:39</td>\n      <td>Twelve Monkeys (a.k.a. 12 Monkeys) (1995)</td>\n      <td>Mystery|Sci-Fi|Thriller</td>\n    </tr>\n    <tr>\n      <th>3</th>\n      <td>1</td>\n      <td>47</td>\n      <td>3.5</td>\n      <td>2005-04-02 23:32:07</td>\n      <td>Seven (a.k.a. Se7en) (1995)</td>\n      <td>Mystery|Thriller</td>\n    </tr>\n    <tr>\n      <th>4</th>\n      <td>1</td>\n      <td>50</td>\n      <td>3.5</td>\n      <td>2005-04-02 23:29:40</td>\n      <td>Usual Suspects, The (1995)</td>\n      <td>Crime|Mystery|Thriller</td>\n    </tr>\n  </tbody>\n</table>\n</div>"
     },
     "execution_count": 14,
     "metadata": {},
     "output_type": "execute_result"
    }
   ],
   "source": [
    "# Merge movies onto ratings\n",
    "data = ratings.merge(movies, on='movieId', how='left')\n",
    "\n",
    "# Display the merged DataFrame\n",
    "data.head()"
   ],
   "metadata": {
    "collapsed": false,
    "ExecuteTime": {
     "end_time": "2023-11-23T20:57:38.312730Z",
     "start_time": "2023-11-23T20:57:33.217324Z"
    }
   },
   "id": "8b4e2a1aedd64562"
  },
  {
   "cell_type": "code",
   "execution_count": 15,
   "outputs": [
    {
     "data": {
      "text/plain": "   userId  movieId  rating           timestamp  \\\n0       1        2     3.5 2005-04-02 23:53:47   \n1       1       29     3.5 2005-04-02 23:31:16   \n2       1       32     3.5 2005-04-02 23:33:39   \n3       1       47     3.5 2005-04-02 23:32:07   \n4       1       50     3.5 2005-04-02 23:29:40   \n\n                                               title  \\\n0                                     Jumanji (1995)   \n1  City of Lost Children, The (Cité des enfants p...   \n2          Twelve Monkeys (a.k.a. 12 Monkeys) (1995)   \n3                        Seven (a.k.a. Se7en) (1995)   \n4                         Usual Suspects, The (1995)   \n\n                                   genres  \n0              Adventure|Children|Fantasy  \n1  Adventure|Drama|Fantasy|Mystery|Sci-Fi  \n2                 Mystery|Sci-Fi|Thriller  \n3                        Mystery|Thriller  \n4                  Crime|Mystery|Thriller  ",
      "text/html": "<div>\n<style scoped>\n    .dataframe tbody tr th:only-of-type {\n        vertical-align: middle;\n    }\n\n    .dataframe tbody tr th {\n        vertical-align: top;\n    }\n\n    .dataframe thead th {\n        text-align: right;\n    }\n</style>\n<table border=\"1\" class=\"dataframe\">\n  <thead>\n    <tr style=\"text-align: right;\">\n      <th></th>\n      <th>userId</th>\n      <th>movieId</th>\n      <th>rating</th>\n      <th>timestamp</th>\n      <th>title</th>\n      <th>genres</th>\n    </tr>\n  </thead>\n  <tbody>\n    <tr>\n      <th>0</th>\n      <td>1</td>\n      <td>2</td>\n      <td>3.5</td>\n      <td>2005-04-02 23:53:47</td>\n      <td>Jumanji (1995)</td>\n      <td>Adventure|Children|Fantasy</td>\n    </tr>\n    <tr>\n      <th>1</th>\n      <td>1</td>\n      <td>29</td>\n      <td>3.5</td>\n      <td>2005-04-02 23:31:16</td>\n      <td>City of Lost Children, The (Cité des enfants p...</td>\n      <td>Adventure|Drama|Fantasy|Mystery|Sci-Fi</td>\n    </tr>\n    <tr>\n      <th>2</th>\n      <td>1</td>\n      <td>32</td>\n      <td>3.5</td>\n      <td>2005-04-02 23:33:39</td>\n      <td>Twelve Monkeys (a.k.a. 12 Monkeys) (1995)</td>\n      <td>Mystery|Sci-Fi|Thriller</td>\n    </tr>\n    <tr>\n      <th>3</th>\n      <td>1</td>\n      <td>47</td>\n      <td>3.5</td>\n      <td>2005-04-02 23:32:07</td>\n      <td>Seven (a.k.a. Se7en) (1995)</td>\n      <td>Mystery|Thriller</td>\n    </tr>\n    <tr>\n      <th>4</th>\n      <td>1</td>\n      <td>50</td>\n      <td>3.5</td>\n      <td>2005-04-02 23:29:40</td>\n      <td>Usual Suspects, The (1995)</td>\n      <td>Crime|Mystery|Thriller</td>\n    </tr>\n  </tbody>\n</table>\n</div>"
     },
     "execution_count": 15,
     "metadata": {},
     "output_type": "execute_result"
    }
   ],
   "source": [
    "# Create DataFrame with counts of votes for each movie\n",
    "vote_counts = pd.DataFrame(data['movieId'].value_counts())\n",
    "\n",
    "# Select movies with vote counts equal to or exceeding 1000\n",
    "popular_movies = vote_counts[vote_counts['movieId'] >= 1000]\n",
    "\n",
    "# Filter original data to include only popular movies\n",
    "popular_movies = data[data['movieId'].isin(popular_movies.index)]\n",
    "\n",
    "# Display popular movies\n",
    "popular_movies.head()"
   ],
   "metadata": {
    "collapsed": false,
    "ExecuteTime": {
     "end_time": "2023-11-23T20:57:41.389813Z",
     "start_time": "2023-11-23T20:57:39.603360Z"
    }
   },
   "id": "1d635c8b2acd889"
  },
  {
   "cell_type": "code",
   "execution_count": 16,
   "outputs": [
    {
     "data": {
      "text/plain": "title   'burbs, The (1989)  (500) Days of Summer (2009)  \\\nuserId                                                    \n1                      NaN                          NaN   \n2                      NaN                          NaN   \n3                      NaN                          NaN   \n4                      NaN                          NaN   \n5                      NaN                          NaN   \n\ntitle   *batteries not included (1987)  ...And Justice for All (1979)  \\\nuserId                                                                  \n1                                  NaN                            NaN   \n2                                  NaN                            NaN   \n3                                  NaN                            NaN   \n4                                  NaN                            NaN   \n5                                  NaN                            NaN   \n\ntitle   10 Things I Hate About You (1999)  10,000 BC (2008)  \\\nuserId                                                        \n1                                     NaN               NaN   \n2                                     NaN               NaN   \n3                                     NaN               NaN   \n4                                     NaN               NaN   \n5                                     NaN               NaN   \n\ntitle   101 Dalmatians (1996)  \\\nuserId                          \n1                         NaN   \n2                         NaN   \n3                         NaN   \n4                         NaN   \n5                         NaN   \n\ntitle   101 Dalmatians (One Hundred and One Dalmatians) (1961)  \\\nuserId                                                           \n1                                                     NaN        \n2                                                     NaN        \n3                                                     NaN        \n4                                                     NaN        \n5                                                     NaN        \n\ntitle   102 Dalmatians (2000)  12 Angry Men (1957)  ...  \\\nuserId                                              ...   \n1                         NaN                  NaN  ...   \n2                         NaN                  NaN  ...   \n3                         NaN                  NaN  ...   \n4                         NaN                  NaN  ...   \n5                         NaN                  NaN  ...   \n\ntitle   Zero Dark Thirty (2012)  Zero Effect (1998)  Zodiac (2007)  \\\nuserId                                                               \n1                           NaN                 NaN            NaN   \n2                           NaN                 NaN            NaN   \n3                           NaN                 NaN            NaN   \n4                           NaN                 NaN            NaN   \n5                           NaN                 NaN            NaN   \n\ntitle   Zombieland (2009)  Zoolander (2001)  Zulu (1964)  [REC] (2007)  \\\nuserId                                                                   \n1                     NaN               NaN          NaN           NaN   \n2                     NaN               NaN          NaN           NaN   \n3                     NaN               NaN          NaN           NaN   \n4                     NaN               NaN          NaN           NaN   \n5                     NaN               NaN          NaN           NaN   \n\ntitle   eXistenZ (1999)  xXx (2002)  ¡Three Amigos! (1986)  \nuserId                                                      \n1                   NaN         NaN                    NaN  \n2                   NaN         NaN                    NaN  \n3                   NaN         NaN                    NaN  \n4                   NaN         NaN                    NaN  \n5                   NaN         NaN                    NaN  \n\n[5 rows x 3159 columns]",
      "text/html": "<div>\n<style scoped>\n    .dataframe tbody tr th:only-of-type {\n        vertical-align: middle;\n    }\n\n    .dataframe tbody tr th {\n        vertical-align: top;\n    }\n\n    .dataframe thead th {\n        text-align: right;\n    }\n</style>\n<table border=\"1\" class=\"dataframe\">\n  <thead>\n    <tr style=\"text-align: right;\">\n      <th>title</th>\n      <th>'burbs, The (1989)</th>\n      <th>(500) Days of Summer (2009)</th>\n      <th>*batteries not included (1987)</th>\n      <th>...And Justice for All (1979)</th>\n      <th>10 Things I Hate About You (1999)</th>\n      <th>10,000 BC (2008)</th>\n      <th>101 Dalmatians (1996)</th>\n      <th>101 Dalmatians (One Hundred and One Dalmatians) (1961)</th>\n      <th>102 Dalmatians (2000)</th>\n      <th>12 Angry Men (1957)</th>\n      <th>...</th>\n      <th>Zero Dark Thirty (2012)</th>\n      <th>Zero Effect (1998)</th>\n      <th>Zodiac (2007)</th>\n      <th>Zombieland (2009)</th>\n      <th>Zoolander (2001)</th>\n      <th>Zulu (1964)</th>\n      <th>[REC] (2007)</th>\n      <th>eXistenZ (1999)</th>\n      <th>xXx (2002)</th>\n      <th>¡Three Amigos! (1986)</th>\n    </tr>\n    <tr>\n      <th>userId</th>\n      <th></th>\n      <th></th>\n      <th></th>\n      <th></th>\n      <th></th>\n      <th></th>\n      <th></th>\n      <th></th>\n      <th></th>\n      <th></th>\n      <th></th>\n      <th></th>\n      <th></th>\n      <th></th>\n      <th></th>\n      <th></th>\n      <th></th>\n      <th></th>\n      <th></th>\n      <th></th>\n      <th></th>\n    </tr>\n  </thead>\n  <tbody>\n    <tr>\n      <th>1</th>\n      <td>NaN</td>\n      <td>NaN</td>\n      <td>NaN</td>\n      <td>NaN</td>\n      <td>NaN</td>\n      <td>NaN</td>\n      <td>NaN</td>\n      <td>NaN</td>\n      <td>NaN</td>\n      <td>NaN</td>\n      <td>...</td>\n      <td>NaN</td>\n      <td>NaN</td>\n      <td>NaN</td>\n      <td>NaN</td>\n      <td>NaN</td>\n      <td>NaN</td>\n      <td>NaN</td>\n      <td>NaN</td>\n      <td>NaN</td>\n      <td>NaN</td>\n    </tr>\n    <tr>\n      <th>2</th>\n      <td>NaN</td>\n      <td>NaN</td>\n      <td>NaN</td>\n      <td>NaN</td>\n      <td>NaN</td>\n      <td>NaN</td>\n      <td>NaN</td>\n      <td>NaN</td>\n      <td>NaN</td>\n      <td>NaN</td>\n      <td>...</td>\n      <td>NaN</td>\n      <td>NaN</td>\n      <td>NaN</td>\n      <td>NaN</td>\n      <td>NaN</td>\n      <td>NaN</td>\n      <td>NaN</td>\n      <td>NaN</td>\n      <td>NaN</td>\n      <td>NaN</td>\n    </tr>\n    <tr>\n      <th>3</th>\n      <td>NaN</td>\n      <td>NaN</td>\n      <td>NaN</td>\n      <td>NaN</td>\n      <td>NaN</td>\n      <td>NaN</td>\n      <td>NaN</td>\n      <td>NaN</td>\n      <td>NaN</td>\n      <td>NaN</td>\n      <td>...</td>\n      <td>NaN</td>\n      <td>NaN</td>\n      <td>NaN</td>\n      <td>NaN</td>\n      <td>NaN</td>\n      <td>NaN</td>\n      <td>NaN</td>\n      <td>NaN</td>\n      <td>NaN</td>\n      <td>NaN</td>\n    </tr>\n    <tr>\n      <th>4</th>\n      <td>NaN</td>\n      <td>NaN</td>\n      <td>NaN</td>\n      <td>NaN</td>\n      <td>NaN</td>\n      <td>NaN</td>\n      <td>NaN</td>\n      <td>NaN</td>\n      <td>NaN</td>\n      <td>NaN</td>\n      <td>...</td>\n      <td>NaN</td>\n      <td>NaN</td>\n      <td>NaN</td>\n      <td>NaN</td>\n      <td>NaN</td>\n      <td>NaN</td>\n      <td>NaN</td>\n      <td>NaN</td>\n      <td>NaN</td>\n      <td>NaN</td>\n    </tr>\n    <tr>\n      <th>5</th>\n      <td>NaN</td>\n      <td>NaN</td>\n      <td>NaN</td>\n      <td>NaN</td>\n      <td>NaN</td>\n      <td>NaN</td>\n      <td>NaN</td>\n      <td>NaN</td>\n      <td>NaN</td>\n      <td>NaN</td>\n      <td>...</td>\n      <td>NaN</td>\n      <td>NaN</td>\n      <td>NaN</td>\n      <td>NaN</td>\n      <td>NaN</td>\n      <td>NaN</td>\n      <td>NaN</td>\n      <td>NaN</td>\n      <td>NaN</td>\n      <td>NaN</td>\n    </tr>\n  </tbody>\n</table>\n<p>5 rows × 3159 columns</p>\n</div>"
     },
     "execution_count": 16,
     "metadata": {},
     "output_type": "execute_result"
    }
   ],
   "source": [
    "# Create user-movie pivot table with ratings\n",
    "user_movie_table = popular_movies.pivot_table(values='rating', index='userId', columns='title')\n",
    "\n",
    "# Display pivot table\n",
    "user_movie_table.head()"
   ],
   "metadata": {
    "collapsed": false,
    "ExecuteTime": {
     "end_time": "2023-11-23T20:58:55.569207Z",
     "start_time": "2023-11-23T20:57:41.492139Z"
    }
   },
   "id": "3d2bac4b1e59a39e"
  },
  {
   "cell_type": "code",
   "execution_count": 17,
   "outputs": [
    {
     "data": {
      "text/plain": "title   'burbs, The (1989)  (500) Days of Summer (2009)  \\\nuserId                                                    \n32344                  1.0                          NaN   \n\ntitle   *batteries not included (1987)  ...And Justice for All (1979)  \\\nuserId                                                                  \n32344                              1.5                            4.0   \n\ntitle   10 Things I Hate About You (1999)  10,000 BC (2008)  \\\nuserId                                                        \n32344                                 2.0               NaN   \n\ntitle   101 Dalmatians (1996)  \\\nuserId                          \n32344                     NaN   \n\ntitle   101 Dalmatians (One Hundred and One Dalmatians) (1961)  \\\nuserId                                                           \n32344                                                 NaN        \n\ntitle   102 Dalmatians (2000)  12 Angry Men (1957)  ...  \\\nuserId                                              ...   \n32344                     NaN                  4.0  ...   \n\ntitle   Zero Dark Thirty (2012)  Zero Effect (1998)  Zodiac (2007)  \\\nuserId                                                               \n32344                       NaN                 NaN            3.0   \n\ntitle   Zombieland (2009)  Zoolander (2001)  Zulu (1964)  [REC] (2007)  \\\nuserId                                                                   \n32344                 NaN               3.5          3.5           NaN   \n\ntitle   eXistenZ (1999)  xXx (2002)  ¡Three Amigos! (1986)  \nuserId                                                      \n32344               1.5         NaN                    2.5  \n\n[1 rows x 3159 columns]",
      "text/html": "<div>\n<style scoped>\n    .dataframe tbody tr th:only-of-type {\n        vertical-align: middle;\n    }\n\n    .dataframe tbody tr th {\n        vertical-align: top;\n    }\n\n    .dataframe thead th {\n        text-align: right;\n    }\n</style>\n<table border=\"1\" class=\"dataframe\">\n  <thead>\n    <tr style=\"text-align: right;\">\n      <th>title</th>\n      <th>'burbs, The (1989)</th>\n      <th>(500) Days of Summer (2009)</th>\n      <th>*batteries not included (1987)</th>\n      <th>...And Justice for All (1979)</th>\n      <th>10 Things I Hate About You (1999)</th>\n      <th>10,000 BC (2008)</th>\n      <th>101 Dalmatians (1996)</th>\n      <th>101 Dalmatians (One Hundred and One Dalmatians) (1961)</th>\n      <th>102 Dalmatians (2000)</th>\n      <th>12 Angry Men (1957)</th>\n      <th>...</th>\n      <th>Zero Dark Thirty (2012)</th>\n      <th>Zero Effect (1998)</th>\n      <th>Zodiac (2007)</th>\n      <th>Zombieland (2009)</th>\n      <th>Zoolander (2001)</th>\n      <th>Zulu (1964)</th>\n      <th>[REC] (2007)</th>\n      <th>eXistenZ (1999)</th>\n      <th>xXx (2002)</th>\n      <th>¡Three Amigos! (1986)</th>\n    </tr>\n    <tr>\n      <th>userId</th>\n      <th></th>\n      <th></th>\n      <th></th>\n      <th></th>\n      <th></th>\n      <th></th>\n      <th></th>\n      <th></th>\n      <th></th>\n      <th></th>\n      <th></th>\n      <th></th>\n      <th></th>\n      <th></th>\n      <th></th>\n      <th></th>\n      <th></th>\n      <th></th>\n      <th></th>\n      <th></th>\n      <th></th>\n    </tr>\n  </thead>\n  <tbody>\n    <tr>\n      <th>32344</th>\n      <td>1.0</td>\n      <td>NaN</td>\n      <td>1.5</td>\n      <td>4.0</td>\n      <td>2.0</td>\n      <td>NaN</td>\n      <td>NaN</td>\n      <td>NaN</td>\n      <td>NaN</td>\n      <td>4.0</td>\n      <td>...</td>\n      <td>NaN</td>\n      <td>NaN</td>\n      <td>3.0</td>\n      <td>NaN</td>\n      <td>3.5</td>\n      <td>3.5</td>\n      <td>NaN</td>\n      <td>1.5</td>\n      <td>NaN</td>\n      <td>2.5</td>\n    </tr>\n  </tbody>\n</table>\n<p>1 rows × 3159 columns</p>\n</div>"
     },
     "execution_count": 17,
     "metadata": {},
     "output_type": "execute_result"
    }
   ],
   "source": [
    "# Select a random user from the data\n",
    "random_user = 32344\n",
    "\n",
    "# Extract the user-movie ratings table for the selected random user\n",
    "random_user_movie_table = user_movie_table[user_movie_table.index == random_user]\n",
    "\n",
    "# Display the user-movie ratings table for the random user\n",
    "random_user_movie_table.head()"
   ],
   "metadata": {
    "collapsed": false,
    "ExecuteTime": {
     "end_time": "2023-11-23T20:58:56.184274Z",
     "start_time": "2023-11-23T20:58:55.165675Z"
    }
   },
   "id": "b9f4f9f7ff766231"
  },
  {
   "cell_type": "code",
   "execution_count": 18,
   "outputs": [
    {
     "data": {
      "text/plain": "[\"'burbs, The (1989)\",\n '*batteries not included (1987)',\n '...And Justice for All (1979)',\n '10 Things I Hate About You (1999)',\n '12 Angry Men (1957)']"
     },
     "execution_count": 18,
     "metadata": {},
     "output_type": "execute_result"
    }
   ],
   "source": [
    "# Extract movies watched by the random user\n",
    "movies_watched = random_user_movie_table.columns[random_user_movie_table.notna().any()].to_list()\n",
    "\n",
    "# Display the first few movies watched by the random user\n",
    "movies_watched[:5]"
   ],
   "metadata": {
    "collapsed": false,
    "ExecuteTime": {
     "end_time": "2023-11-23T20:58:56.196380Z",
     "start_time": "2023-11-23T20:58:56.038804Z"
    }
   },
   "id": "4bb8fdb9cf8a8164"
  },
  {
   "cell_type": "code",
   "execution_count": 19,
   "outputs": [
    {
     "data": {
      "text/plain": "title   'burbs, The (1989)  *batteries not included (1987)  \\\nuserId                                                       \n1                      NaN                             NaN   \n2                      NaN                             NaN   \n3                      NaN                             NaN   \n4                      NaN                             NaN   \n5                      NaN                             NaN   \n\ntitle   ...And Justice for All (1979)  10 Things I Hate About You (1999)  \\\nuserId                                                                     \n1                                 NaN                                NaN   \n2                                 NaN                                NaN   \n3                                 NaN                                NaN   \n4                                 NaN                                NaN   \n5                                 NaN                                NaN   \n\ntitle   12 Angry Men (1957)  13th Warrior, The (1999)  1408 (2007)  \\\nuserId                                                               \n1                       NaN                       NaN          NaN   \n2                       NaN                       NaN          NaN   \n3                       NaN                       NaN          NaN   \n4                       NaN                       NaN          NaN   \n5                       NaN                       NaN          NaN   \n\ntitle   15 Minutes (2001)  16 Blocks (2006)  2 Days in the Valley (1996)  ...  \\\nuserId                                                                    ...   \n1                     NaN               NaN                          NaN  ...   \n2                     NaN               NaN                          NaN  ...   \n3                     NaN               NaN                          NaN  ...   \n4                     NaN               NaN                          NaN  ...   \n5                     NaN               NaN                          NaN  ...   \n\ntitle   You, Me and Dupree (2006)  Young Frankenstein (1974)  \\\nuserId                                                         \n1                             NaN                        4.0   \n2                             NaN                        NaN   \n3                             NaN                        5.0   \n4                             NaN                        NaN   \n5                             NaN                        NaN   \n\ntitle   Young Guns (1988)  Young Guns II (1990)  Zelig (1983)  Zodiac (2007)  \\\nuserId                                                                         \n1                     NaN                   NaN           NaN            NaN   \n2                     NaN                   NaN           NaN            NaN   \n3                     NaN                   NaN           NaN            NaN   \n4                     NaN                   NaN           NaN            NaN   \n5                     NaN                   NaN           NaN            NaN   \n\ntitle   Zoolander (2001)  Zulu (1964)  eXistenZ (1999)  ¡Three Amigos! (1986)  \nuserId                                                                         \n1                    NaN          NaN              NaN                    NaN  \n2                    NaN          NaN              NaN                    NaN  \n3                    NaN          NaN              NaN                    NaN  \n4                    NaN          NaN              NaN                    NaN  \n5                    NaN          NaN              NaN                    NaN  \n\n[5 rows x 1863 columns]",
      "text/html": "<div>\n<style scoped>\n    .dataframe tbody tr th:only-of-type {\n        vertical-align: middle;\n    }\n\n    .dataframe tbody tr th {\n        vertical-align: top;\n    }\n\n    .dataframe thead th {\n        text-align: right;\n    }\n</style>\n<table border=\"1\" class=\"dataframe\">\n  <thead>\n    <tr style=\"text-align: right;\">\n      <th>title</th>\n      <th>'burbs, The (1989)</th>\n      <th>*batteries not included (1987)</th>\n      <th>...And Justice for All (1979)</th>\n      <th>10 Things I Hate About You (1999)</th>\n      <th>12 Angry Men (1957)</th>\n      <th>13th Warrior, The (1999)</th>\n      <th>1408 (2007)</th>\n      <th>15 Minutes (2001)</th>\n      <th>16 Blocks (2006)</th>\n      <th>2 Days in the Valley (1996)</th>\n      <th>...</th>\n      <th>You, Me and Dupree (2006)</th>\n      <th>Young Frankenstein (1974)</th>\n      <th>Young Guns (1988)</th>\n      <th>Young Guns II (1990)</th>\n      <th>Zelig (1983)</th>\n      <th>Zodiac (2007)</th>\n      <th>Zoolander (2001)</th>\n      <th>Zulu (1964)</th>\n      <th>eXistenZ (1999)</th>\n      <th>¡Three Amigos! (1986)</th>\n    </tr>\n    <tr>\n      <th>userId</th>\n      <th></th>\n      <th></th>\n      <th></th>\n      <th></th>\n      <th></th>\n      <th></th>\n      <th></th>\n      <th></th>\n      <th></th>\n      <th></th>\n      <th></th>\n      <th></th>\n      <th></th>\n      <th></th>\n      <th></th>\n      <th></th>\n      <th></th>\n      <th></th>\n      <th></th>\n      <th></th>\n      <th></th>\n    </tr>\n  </thead>\n  <tbody>\n    <tr>\n      <th>1</th>\n      <td>NaN</td>\n      <td>NaN</td>\n      <td>NaN</td>\n      <td>NaN</td>\n      <td>NaN</td>\n      <td>NaN</td>\n      <td>NaN</td>\n      <td>NaN</td>\n      <td>NaN</td>\n      <td>NaN</td>\n      <td>...</td>\n      <td>NaN</td>\n      <td>4.0</td>\n      <td>NaN</td>\n      <td>NaN</td>\n      <td>NaN</td>\n      <td>NaN</td>\n      <td>NaN</td>\n      <td>NaN</td>\n      <td>NaN</td>\n      <td>NaN</td>\n    </tr>\n    <tr>\n      <th>2</th>\n      <td>NaN</td>\n      <td>NaN</td>\n      <td>NaN</td>\n      <td>NaN</td>\n      <td>NaN</td>\n      <td>NaN</td>\n      <td>NaN</td>\n      <td>NaN</td>\n      <td>NaN</td>\n      <td>NaN</td>\n      <td>...</td>\n      <td>NaN</td>\n      <td>NaN</td>\n      <td>NaN</td>\n      <td>NaN</td>\n      <td>NaN</td>\n      <td>NaN</td>\n      <td>NaN</td>\n      <td>NaN</td>\n      <td>NaN</td>\n      <td>NaN</td>\n    </tr>\n    <tr>\n      <th>3</th>\n      <td>NaN</td>\n      <td>NaN</td>\n      <td>NaN</td>\n      <td>NaN</td>\n      <td>NaN</td>\n      <td>NaN</td>\n      <td>NaN</td>\n      <td>NaN</td>\n      <td>NaN</td>\n      <td>NaN</td>\n      <td>...</td>\n      <td>NaN</td>\n      <td>5.0</td>\n      <td>NaN</td>\n      <td>NaN</td>\n      <td>NaN</td>\n      <td>NaN</td>\n      <td>NaN</td>\n      <td>NaN</td>\n      <td>NaN</td>\n      <td>NaN</td>\n    </tr>\n    <tr>\n      <th>4</th>\n      <td>NaN</td>\n      <td>NaN</td>\n      <td>NaN</td>\n      <td>NaN</td>\n      <td>NaN</td>\n      <td>NaN</td>\n      <td>NaN</td>\n      <td>NaN</td>\n      <td>NaN</td>\n      <td>NaN</td>\n      <td>...</td>\n      <td>NaN</td>\n      <td>NaN</td>\n      <td>NaN</td>\n      <td>NaN</td>\n      <td>NaN</td>\n      <td>NaN</td>\n      <td>NaN</td>\n      <td>NaN</td>\n      <td>NaN</td>\n      <td>NaN</td>\n    </tr>\n    <tr>\n      <th>5</th>\n      <td>NaN</td>\n      <td>NaN</td>\n      <td>NaN</td>\n      <td>NaN</td>\n      <td>NaN</td>\n      <td>NaN</td>\n      <td>NaN</td>\n      <td>NaN</td>\n      <td>NaN</td>\n      <td>NaN</td>\n      <td>...</td>\n      <td>NaN</td>\n      <td>NaN</td>\n      <td>NaN</td>\n      <td>NaN</td>\n      <td>NaN</td>\n      <td>NaN</td>\n      <td>NaN</td>\n      <td>NaN</td>\n      <td>NaN</td>\n      <td>NaN</td>\n    </tr>\n  </tbody>\n</table>\n<p>5 rows × 1863 columns</p>\n</div>"
     },
     "execution_count": 19,
     "metadata": {},
     "output_type": "execute_result"
    }
   ],
   "source": [
    "# Create a table of movies watched by the random user\n",
    "movies_watched_table = user_movie_table[movies_watched]\n",
    "\n",
    "# Display the first few rows of the table\n",
    "movies_watched_table.head()"
   ],
   "metadata": {
    "collapsed": false,
    "ExecuteTime": {
     "end_time": "2023-11-23T20:59:00.152316Z",
     "start_time": "2023-11-23T20:59:00.114645Z"
    }
   },
   "id": "613a7219bc1eaf63"
  },
  {
   "cell_type": "code",
   "execution_count": 20,
   "outputs": [
    {
     "data": {
      "text/plain": "   userId  movie_count\n0       1          130\n1       2           40\n2       3          158\n3       4           22\n4       5           52",
      "text/html": "<div>\n<style scoped>\n    .dataframe tbody tr th:only-of-type {\n        vertical-align: middle;\n    }\n\n    .dataframe tbody tr th {\n        vertical-align: top;\n    }\n\n    .dataframe thead th {\n        text-align: right;\n    }\n</style>\n<table border=\"1\" class=\"dataframe\">\n  <thead>\n    <tr style=\"text-align: right;\">\n      <th></th>\n      <th>userId</th>\n      <th>movie_count</th>\n    </tr>\n  </thead>\n  <tbody>\n    <tr>\n      <th>0</th>\n      <td>1</td>\n      <td>130</td>\n    </tr>\n    <tr>\n      <th>1</th>\n      <td>2</td>\n      <td>40</td>\n    </tr>\n    <tr>\n      <th>2</th>\n      <td>3</td>\n      <td>158</td>\n    </tr>\n    <tr>\n      <th>3</th>\n      <td>4</td>\n      <td>22</td>\n    </tr>\n    <tr>\n      <th>4</th>\n      <td>5</td>\n      <td>52</td>\n    </tr>\n  </tbody>\n</table>\n</div>"
     },
     "execution_count": 20,
     "metadata": {},
     "output_type": "execute_result"
    }
   ],
   "source": [
    "# Count the number of movies watched by the random user\n",
    "user_movie_count = movies_watched_table.T.notnull().sum()\n",
    "user_movie_count = user_movie_count.reset_index()\n",
    "\n",
    "# Rename columns to 'userId' and 'movie_count'\n",
    "user_movie_count.columns = ['userId', 'movie_count']\n",
    "\n",
    "# Display the first few rows of user-movie count table\n",
    "user_movie_count.head()"
   ],
   "metadata": {
    "collapsed": false,
    "ExecuteTime": {
     "end_time": "2023-11-23T20:59:01.307417Z",
     "start_time": "2023-11-23T20:59:00.162709Z"
    }
   },
   "id": "c9c60672982a94e0"
  },
  {
   "cell_type": "code",
   "execution_count": 21,
   "outputs": [
    {
     "name": "stdout",
     "output_type": "stream",
     "text": [
      "- Number of similar users found: 340\n"
     ]
    }
   ],
   "source": [
    "# Set the similarity threshold for considering similar users\n",
    "sim_th = 0.5\n",
    "\n",
    "# Select users who have watched at least the specified percentage of movies watched by the random user\n",
    "same_movies = user_movie_count[user_movie_count['movie_count'] >= len(movies_watched) * sim_th]['userId']\n",
    "\n",
    "# Print the number of similar users found\n",
    "print(f\"- Number of similar users found: {len(same_movies)}\")"
   ],
   "metadata": {
    "collapsed": false,
    "ExecuteTime": {
     "end_time": "2023-11-23T20:59:01.321676Z",
     "start_time": "2023-11-23T20:59:01.310395Z"
    }
   },
   "id": "254e77a5aced8398"
  },
  {
   "cell_type": "code",
   "execution_count": 22,
   "outputs": [
    {
     "data": {
      "text/plain": "title   'burbs, The (1989)  *batteries not included (1987)  \\\nuserId                                                       \n156                    3.0                             NaN   \n775                    2.0                             3.5   \n903                    3.0                             NaN   \n982                    3.5                             NaN   \n2261                   NaN                             2.5   \n\ntitle   ...And Justice for All (1979)  10 Things I Hate About You (1999)  \\\nuserId                                                                     \n156                               4.0                                NaN   \n775                               NaN                                NaN   \n903                               2.0                                3.0   \n982                               NaN                                NaN   \n2261                              3.0                                NaN   \n\ntitle   12 Angry Men (1957)  13th Warrior, The (1999)  1408 (2007)  \\\nuserId                                                               \n156                     NaN                       5.0          NaN   \n775                     4.0                       NaN          NaN   \n903                     4.0                       3.0          NaN   \n982                     4.0                       NaN          NaN   \n2261                    4.0                       1.5          NaN   \n\ntitle   15 Minutes (2001)  16 Blocks (2006)  2 Days in the Valley (1996)  ...  \\\nuserId                                                                    ...   \n156                   2.0               NaN                          5.0  ...   \n775                   NaN               NaN                          2.5  ...   \n903                   NaN               NaN                          4.0  ...   \n982                   2.0               2.5                          3.5  ...   \n2261                  2.5               NaN                          3.5  ...   \n\ntitle   You, Me and Dupree (2006)  Young Frankenstein (1974)  \\\nuserId                                                         \n156                           NaN                        5.0   \n775                           NaN                        4.5   \n903                           NaN                        5.0   \n982                           2.5                        3.5   \n2261                          NaN                        4.0   \n\ntitle   Young Guns (1988)  Young Guns II (1990)  Zelig (1983)  Zodiac (2007)  \\\nuserId                                                                         \n156                   4.0                   4.0           NaN            NaN   \n775                   4.0                   4.0           2.5            NaN   \n903                   2.0                   1.0           NaN            NaN   \n982                   3.0                   3.0           NaN            4.0   \n2261                  2.5                   NaN           3.0            2.0   \n\ntitle   Zoolander (2001)  Zulu (1964)  eXistenZ (1999)  ¡Three Amigos! (1986)  \nuserId                                                                         \n156                  NaN          3.0              5.0                    NaN  \n775                  4.0          NaN              4.0                    2.0  \n903                  NaN          NaN              NaN                    4.0  \n982                  3.0          NaN              3.5                    2.5  \n2261                 1.5          NaN              NaN                    NaN  \n\n[5 rows x 1863 columns]",
      "text/html": "<div>\n<style scoped>\n    .dataframe tbody tr th:only-of-type {\n        vertical-align: middle;\n    }\n\n    .dataframe tbody tr th {\n        vertical-align: top;\n    }\n\n    .dataframe thead th {\n        text-align: right;\n    }\n</style>\n<table border=\"1\" class=\"dataframe\">\n  <thead>\n    <tr style=\"text-align: right;\">\n      <th>title</th>\n      <th>'burbs, The (1989)</th>\n      <th>*batteries not included (1987)</th>\n      <th>...And Justice for All (1979)</th>\n      <th>10 Things I Hate About You (1999)</th>\n      <th>12 Angry Men (1957)</th>\n      <th>13th Warrior, The (1999)</th>\n      <th>1408 (2007)</th>\n      <th>15 Minutes (2001)</th>\n      <th>16 Blocks (2006)</th>\n      <th>2 Days in the Valley (1996)</th>\n      <th>...</th>\n      <th>You, Me and Dupree (2006)</th>\n      <th>Young Frankenstein (1974)</th>\n      <th>Young Guns (1988)</th>\n      <th>Young Guns II (1990)</th>\n      <th>Zelig (1983)</th>\n      <th>Zodiac (2007)</th>\n      <th>Zoolander (2001)</th>\n      <th>Zulu (1964)</th>\n      <th>eXistenZ (1999)</th>\n      <th>¡Three Amigos! (1986)</th>\n    </tr>\n    <tr>\n      <th>userId</th>\n      <th></th>\n      <th></th>\n      <th></th>\n      <th></th>\n      <th></th>\n      <th></th>\n      <th></th>\n      <th></th>\n      <th></th>\n      <th></th>\n      <th></th>\n      <th></th>\n      <th></th>\n      <th></th>\n      <th></th>\n      <th></th>\n      <th></th>\n      <th></th>\n      <th></th>\n      <th></th>\n      <th></th>\n    </tr>\n  </thead>\n  <tbody>\n    <tr>\n      <th>156</th>\n      <td>3.0</td>\n      <td>NaN</td>\n      <td>4.0</td>\n      <td>NaN</td>\n      <td>NaN</td>\n      <td>5.0</td>\n      <td>NaN</td>\n      <td>2.0</td>\n      <td>NaN</td>\n      <td>5.0</td>\n      <td>...</td>\n      <td>NaN</td>\n      <td>5.0</td>\n      <td>4.0</td>\n      <td>4.0</td>\n      <td>NaN</td>\n      <td>NaN</td>\n      <td>NaN</td>\n      <td>3.0</td>\n      <td>5.0</td>\n      <td>NaN</td>\n    </tr>\n    <tr>\n      <th>775</th>\n      <td>2.0</td>\n      <td>3.5</td>\n      <td>NaN</td>\n      <td>NaN</td>\n      <td>4.0</td>\n      <td>NaN</td>\n      <td>NaN</td>\n      <td>NaN</td>\n      <td>NaN</td>\n      <td>2.5</td>\n      <td>...</td>\n      <td>NaN</td>\n      <td>4.5</td>\n      <td>4.0</td>\n      <td>4.0</td>\n      <td>2.5</td>\n      <td>NaN</td>\n      <td>4.0</td>\n      <td>NaN</td>\n      <td>4.0</td>\n      <td>2.0</td>\n    </tr>\n    <tr>\n      <th>903</th>\n      <td>3.0</td>\n      <td>NaN</td>\n      <td>2.0</td>\n      <td>3.0</td>\n      <td>4.0</td>\n      <td>3.0</td>\n      <td>NaN</td>\n      <td>NaN</td>\n      <td>NaN</td>\n      <td>4.0</td>\n      <td>...</td>\n      <td>NaN</td>\n      <td>5.0</td>\n      <td>2.0</td>\n      <td>1.0</td>\n      <td>NaN</td>\n      <td>NaN</td>\n      <td>NaN</td>\n      <td>NaN</td>\n      <td>NaN</td>\n      <td>4.0</td>\n    </tr>\n    <tr>\n      <th>982</th>\n      <td>3.5</td>\n      <td>NaN</td>\n      <td>NaN</td>\n      <td>NaN</td>\n      <td>4.0</td>\n      <td>NaN</td>\n      <td>NaN</td>\n      <td>2.0</td>\n      <td>2.5</td>\n      <td>3.5</td>\n      <td>...</td>\n      <td>2.5</td>\n      <td>3.5</td>\n      <td>3.0</td>\n      <td>3.0</td>\n      <td>NaN</td>\n      <td>4.0</td>\n      <td>3.0</td>\n      <td>NaN</td>\n      <td>3.5</td>\n      <td>2.5</td>\n    </tr>\n    <tr>\n      <th>2261</th>\n      <td>NaN</td>\n      <td>2.5</td>\n      <td>3.0</td>\n      <td>NaN</td>\n      <td>4.0</td>\n      <td>1.5</td>\n      <td>NaN</td>\n      <td>2.5</td>\n      <td>NaN</td>\n      <td>3.5</td>\n      <td>...</td>\n      <td>NaN</td>\n      <td>4.0</td>\n      <td>2.5</td>\n      <td>NaN</td>\n      <td>3.0</td>\n      <td>2.0</td>\n      <td>1.5</td>\n      <td>NaN</td>\n      <td>NaN</td>\n      <td>NaN</td>\n    </tr>\n  </tbody>\n</table>\n<p>5 rows × 1863 columns</p>\n</div>"
     },
     "execution_count": 22,
     "metadata": {},
     "output_type": "execute_result"
    }
   ],
   "source": [
    "# Filter the user-movie table to include only entries from similar users\n",
    "filtered_table = movies_watched_table[movies_watched_table.index.isin(same_movies)]\n",
    "\n",
    "# Display the first few rows of the filtered user-movie table\n",
    "filtered_table.head()"
   ],
   "metadata": {
    "collapsed": false,
    "ExecuteTime": {
     "end_time": "2023-11-23T20:59:01.456373Z",
     "start_time": "2023-11-23T20:59:01.323744Z"
    }
   },
   "id": "67bcab46681d566c"
  },
  {
   "cell_type": "code",
   "execution_count": 23,
   "outputs": [
    {
     "data": {
      "text/plain": "1.000000    340\n0.350532      2\n0.350688      2\n0.350698      2\n0.350701      2\n           ... \n0.234993      2\n0.234995      2\n0.235000      2\n0.235010      2\n0.293217      2\nName: correlation, Length: 57631, dtype: int64"
     },
     "execution_count": 23,
     "metadata": {},
     "output_type": "execute_result"
    }
   ],
   "source": [
    "# Calculate the correlation between movies watched by similar users\n",
    "correlation_table = (filtered_table.T.corr().unstack()\n",
    "                     .sort_values()\n",
    "                     .rename_axis(['user_id_1', 'user_id_2'])\n",
    "                     .reset_index(name='correlation'))\n",
    "\n",
    "# Display the counts of unique correlation values\n",
    "correlation_table['correlation'].value_counts()"
   ],
   "metadata": {
    "collapsed": false,
    "ExecuteTime": {
     "end_time": "2023-11-23T20:59:02.315540Z",
     "start_time": "2023-11-23T20:59:01.403474Z"
    }
   },
   "id": "7ee38baabf6af6e9"
  },
  {
   "cell_type": "code",
   "execution_count": 24,
   "outputs": [
    {
     "data": {
      "text/plain": "   userId  correlation\n9   32344     1.000000\n8   68063     0.978265\n7   88604     0.672274\n6    8405     0.663698\n5   32161     0.621443",
      "text/html": "<div>\n<style scoped>\n    .dataframe tbody tr th:only-of-type {\n        vertical-align: middle;\n    }\n\n    .dataframe tbody tr th {\n        vertical-align: top;\n    }\n\n    .dataframe thead th {\n        text-align: right;\n    }\n</style>\n<table border=\"1\" class=\"dataframe\">\n  <thead>\n    <tr style=\"text-align: right;\">\n      <th></th>\n      <th>userId</th>\n      <th>correlation</th>\n    </tr>\n  </thead>\n  <tbody>\n    <tr>\n      <th>9</th>\n      <td>32344</td>\n      <td>1.000000</td>\n    </tr>\n    <tr>\n      <th>8</th>\n      <td>68063</td>\n      <td>0.978265</td>\n    </tr>\n    <tr>\n      <th>7</th>\n      <td>88604</td>\n      <td>0.672274</td>\n    </tr>\n    <tr>\n      <th>6</th>\n      <td>8405</td>\n      <td>0.663698</td>\n    </tr>\n    <tr>\n      <th>5</th>\n      <td>32161</td>\n      <td>0.621443</td>\n    </tr>\n  </tbody>\n</table>\n</div>"
     },
     "execution_count": 24,
     "metadata": {},
     "output_type": "execute_result"
    }
   ],
   "source": [
    "# Set the correlation threshold\n",
    "corr_th = 0.6\n",
    "\n",
    "# Create a mask to filter similar users based on the random user and correlation threshold\n",
    "mask = (correlation_table['user_id_1'] == random_user) & (correlation_table['correlation'] >= corr_th)\n",
    "\n",
    "# Extract similar users and their correlation values, then sort by correlation\n",
    "similar_users = correlation_table[mask][['user_id_2', 'correlation']].reset_index(drop=True).sort_values(\n",
    "    by='correlation', ascending=False)\n",
    "\n",
    "# Rename column\n",
    "similar_users.rename(columns={\"user_id_2\": \"userId\"}, inplace=True)\n",
    "\n",
    "# Display the first few rows of similar users\n",
    "similar_users.head()"
   ],
   "metadata": {
    "collapsed": false,
    "ExecuteTime": {
     "end_time": "2023-11-23T20:59:02.515785Z",
     "start_time": "2023-11-23T20:59:02.284497Z"
    }
   },
   "id": "ace155d5934905a9"
  },
  {
   "cell_type": "code",
   "execution_count": 25,
   "outputs": [
    {
     "data": {
      "text/plain": "      userId  correlation  movieId  rating\n2886   68063     0.978265        1     5.0\n2887   68063     0.978265        2     3.5\n2888   68063     0.978265        5     3.0\n2889   68063     0.978265        6     3.0\n2890   68063     0.978265        9     2.0",
      "text/html": "<div>\n<style scoped>\n    .dataframe tbody tr th:only-of-type {\n        vertical-align: middle;\n    }\n\n    .dataframe tbody tr th {\n        vertical-align: top;\n    }\n\n    .dataframe thead th {\n        text-align: right;\n    }\n</style>\n<table border=\"1\" class=\"dataframe\">\n  <thead>\n    <tr style=\"text-align: right;\">\n      <th></th>\n      <th>userId</th>\n      <th>correlation</th>\n      <th>movieId</th>\n      <th>rating</th>\n    </tr>\n  </thead>\n  <tbody>\n    <tr>\n      <th>2886</th>\n      <td>68063</td>\n      <td>0.978265</td>\n      <td>1</td>\n      <td>5.0</td>\n    </tr>\n    <tr>\n      <th>2887</th>\n      <td>68063</td>\n      <td>0.978265</td>\n      <td>2</td>\n      <td>3.5</td>\n    </tr>\n    <tr>\n      <th>2888</th>\n      <td>68063</td>\n      <td>0.978265</td>\n      <td>5</td>\n      <td>3.0</td>\n    </tr>\n    <tr>\n      <th>2889</th>\n      <td>68063</td>\n      <td>0.978265</td>\n      <td>6</td>\n      <td>3.0</td>\n    </tr>\n    <tr>\n      <th>2890</th>\n      <td>68063</td>\n      <td>0.978265</td>\n      <td>9</td>\n      <td>2.0</td>\n    </tr>\n  </tbody>\n</table>\n</div>"
     },
     "execution_count": 25,
     "metadata": {},
     "output_type": "execute_result"
    }
   ],
   "source": [
    "# Merge similar users with ratings\n",
    "similar_users_ratings = similar_users.merge(ratings[['userId', 'movieId', 'rating']], on='userId')\n",
    "\n",
    "# Remove ratings contributed by the random user\n",
    "similar_users_ratings = similar_users_ratings[similar_users_ratings['userId'] != random_user]\n",
    "\n",
    "# Display unique userIds in the resulting DataFrame\n",
    "unique_user_ids = similar_users_ratings['userId'].unique()\n",
    "\n",
    "# Display the first few rows of the DataFrame containing ratings from similar users\n",
    "similar_users_ratings.head()"
   ],
   "metadata": {
    "collapsed": false,
    "ExecuteTime": {
     "end_time": "2023-11-23T20:59:07.075133Z",
     "start_time": "2023-11-23T20:59:04.917959Z"
    }
   },
   "id": "2b7da5b404da6e5b"
  },
  {
   "cell_type": "markdown",
   "source": [
    "# 3. Data Analysis"
   ],
   "metadata": {
    "collapsed": false
   },
   "id": "2a6b4d0b353464e6"
  },
  {
   "cell_type": "code",
   "execution_count": 26,
   "outputs": [
    {
     "data": {
      "text/plain": "      userId  correlation  movieId  rating  weighted_rating\n2886   68063     0.978265        1     5.0         4.891323\n3416   68063     0.978265     1387     5.0         4.891323\n3598   68063     0.978265     1955     5.0         4.891323\n4245   68063     0.978265     3508     5.0         4.891323\n3597   68063     0.978265     1954     5.0         4.891323",
      "text/html": "<div>\n<style scoped>\n    .dataframe tbody tr th:only-of-type {\n        vertical-align: middle;\n    }\n\n    .dataframe tbody tr th {\n        vertical-align: top;\n    }\n\n    .dataframe thead th {\n        text-align: right;\n    }\n</style>\n<table border=\"1\" class=\"dataframe\">\n  <thead>\n    <tr style=\"text-align: right;\">\n      <th></th>\n      <th>userId</th>\n      <th>correlation</th>\n      <th>movieId</th>\n      <th>rating</th>\n      <th>weighted_rating</th>\n    </tr>\n  </thead>\n  <tbody>\n    <tr>\n      <th>2886</th>\n      <td>68063</td>\n      <td>0.978265</td>\n      <td>1</td>\n      <td>5.0</td>\n      <td>4.891323</td>\n    </tr>\n    <tr>\n      <th>3416</th>\n      <td>68063</td>\n      <td>0.978265</td>\n      <td>1387</td>\n      <td>5.0</td>\n      <td>4.891323</td>\n    </tr>\n    <tr>\n      <th>3598</th>\n      <td>68063</td>\n      <td>0.978265</td>\n      <td>1955</td>\n      <td>5.0</td>\n      <td>4.891323</td>\n    </tr>\n    <tr>\n      <th>4245</th>\n      <td>68063</td>\n      <td>0.978265</td>\n      <td>3508</td>\n      <td>5.0</td>\n      <td>4.891323</td>\n    </tr>\n    <tr>\n      <th>3597</th>\n      <td>68063</td>\n      <td>0.978265</td>\n      <td>1954</td>\n      <td>5.0</td>\n      <td>4.891323</td>\n    </tr>\n  </tbody>\n</table>\n</div>"
     },
     "execution_count": 26,
     "metadata": {},
     "output_type": "execute_result"
    }
   ],
   "source": [
    "# Calculate weighted ratings\n",
    "similar_users_ratings['weighted_rating'] = similar_users_ratings['rating'] * similar_users_ratings['correlation']\n",
    "\n",
    "# Display the top-rated movies based on weighted ratings\n",
    "similar_users_ratings.sort_values(by='weighted_rating', ascending=False).head()"
   ],
   "metadata": {
    "collapsed": false,
    "ExecuteTime": {
     "end_time": "2023-11-23T20:59:07.113456Z",
     "start_time": "2023-11-23T20:59:07.076515Z"
    }
   },
   "id": "f328650215142752"
  },
  {
   "cell_type": "code",
   "execution_count": 27,
   "outputs": [
    {
     "data": {
      "text/plain": "      movieId  weighted_rating\n952      1226         4.104906\n3084     3811         3.938981\n698       921         3.773057\n2783     3469         3.694415\n3439     4263         3.694415",
      "text/html": "<div>\n<style scoped>\n    .dataframe tbody tr th:only-of-type {\n        vertical-align: middle;\n    }\n\n    .dataframe tbody tr th {\n        vertical-align: top;\n    }\n\n    .dataframe thead th {\n        text-align: right;\n    }\n</style>\n<table border=\"1\" class=\"dataframe\">\n  <thead>\n    <tr style=\"text-align: right;\">\n      <th></th>\n      <th>movieId</th>\n      <th>weighted_rating</th>\n    </tr>\n  </thead>\n  <tbody>\n    <tr>\n      <th>952</th>\n      <td>1226</td>\n      <td>4.104906</td>\n    </tr>\n    <tr>\n      <th>3084</th>\n      <td>3811</td>\n      <td>3.938981</td>\n    </tr>\n    <tr>\n      <th>698</th>\n      <td>921</td>\n      <td>3.773057</td>\n    </tr>\n    <tr>\n      <th>2783</th>\n      <td>3469</td>\n      <td>3.694415</td>\n    </tr>\n    <tr>\n      <th>3439</th>\n      <td>4263</td>\n      <td>3.694415</td>\n    </tr>\n  </tbody>\n</table>\n</div>"
     },
     "execution_count": 27,
     "metadata": {},
     "output_type": "execute_result"
    }
   ],
   "source": [
    "# Create a recommendation table by calculating the mean of weighted ratings for each movie\n",
    "recommendation_table = (similar_users_ratings.groupby('movieId')\n",
    "                        .agg({'weighted_rating': 'mean'})\n",
    "                        .reset_index())\n",
    "\n",
    "# Display the top-rated movies in the recommendation table\n",
    "recommendation_table.sort_values(by='weighted_rating', ascending=False).head()\n"
   ],
   "metadata": {
    "collapsed": false,
    "ExecuteTime": {
     "end_time": "2023-11-23T20:59:07.259076Z",
     "start_time": "2023-11-23T20:59:07.118573Z"
    }
   },
   "id": "a5f506d4570a201c"
  },
  {
   "cell_type": "code",
   "execution_count": 28,
   "outputs": [
    {
     "data": {
      "text/plain": "                                       title  weighted_rating\n0                      Quiet Man, The (1952)         4.104906\n1                      Breaker Morant (1980)         3.938981\n2                    My Favorite Year (1982)         3.773057\n3                    Inherit the Wind (1960)         3.694415\n4              Days of Wine and Roses (1962)         3.694415\n5                          Old Yeller (1957)         3.615773\n6   Man Who Shot Liberty Valance, The (1962)         3.615773\n7                Ox-Bow Incident, The (1943)         3.615773\n8                               Shane (1953)         3.565194\n9                      Love and Death (1975)         3.556266\n10                          Gunga Din (1939)         3.556266\n11    Who's Afraid of Virginia Woolf? (1966)         3.555190",
      "text/html": "<div>\n<style scoped>\n    .dataframe tbody tr th:only-of-type {\n        vertical-align: middle;\n    }\n\n    .dataframe tbody tr th {\n        vertical-align: top;\n    }\n\n    .dataframe thead th {\n        text-align: right;\n    }\n</style>\n<table border=\"1\" class=\"dataframe\">\n  <thead>\n    <tr style=\"text-align: right;\">\n      <th></th>\n      <th>title</th>\n      <th>weighted_rating</th>\n    </tr>\n  </thead>\n  <tbody>\n    <tr>\n      <th>0</th>\n      <td>Quiet Man, The (1952)</td>\n      <td>4.104906</td>\n    </tr>\n    <tr>\n      <th>1</th>\n      <td>Breaker Morant (1980)</td>\n      <td>3.938981</td>\n    </tr>\n    <tr>\n      <th>2</th>\n      <td>My Favorite Year (1982)</td>\n      <td>3.773057</td>\n    </tr>\n    <tr>\n      <th>3</th>\n      <td>Inherit the Wind (1960)</td>\n      <td>3.694415</td>\n    </tr>\n    <tr>\n      <th>4</th>\n      <td>Days of Wine and Roses (1962)</td>\n      <td>3.694415</td>\n    </tr>\n    <tr>\n      <th>5</th>\n      <td>Old Yeller (1957)</td>\n      <td>3.615773</td>\n    </tr>\n    <tr>\n      <th>6</th>\n      <td>Man Who Shot Liberty Valance, The (1962)</td>\n      <td>3.615773</td>\n    </tr>\n    <tr>\n      <th>7</th>\n      <td>Ox-Bow Incident, The (1943)</td>\n      <td>3.615773</td>\n    </tr>\n    <tr>\n      <th>8</th>\n      <td>Shane (1953)</td>\n      <td>3.565194</td>\n    </tr>\n    <tr>\n      <th>9</th>\n      <td>Love and Death (1975)</td>\n      <td>3.556266</td>\n    </tr>\n    <tr>\n      <th>10</th>\n      <td>Gunga Din (1939)</td>\n      <td>3.556266</td>\n    </tr>\n    <tr>\n      <th>11</th>\n      <td>Who's Afraid of Virginia Woolf? (1966)</td>\n      <td>3.555190</td>\n    </tr>\n  </tbody>\n</table>\n</div>"
     },
     "execution_count": 28,
     "metadata": {},
     "output_type": "execute_result"
    }
   ],
   "source": [
    "# Select movies with a weighted rating of 4 or higher for recommendations\n",
    "recommended_movies = recommendation_table[recommendation_table['weighted_rating'] >= 3.5].sort_values(\n",
    "    by='weighted_rating', ascending=False)\n",
    "\n",
    "# Get movie titles and display top recommendations\n",
    "recommended_movies.merge(movies[['movieId', 'title']], on='movieId')[['title', 'weighted_rating']]"
   ],
   "metadata": {
    "collapsed": false,
    "ExecuteTime": {
     "end_time": "2023-11-23T20:59:07.297168Z",
     "start_time": "2023-11-23T20:59:07.135952Z"
    }
   },
   "id": "2e2de841d359f4e2"
  }
 ],
 "metadata": {
  "kernelspec": {
   "display_name": "Python 3",
   "language": "python",
   "name": "python3"
  },
  "language_info": {
   "codemirror_mode": {
    "name": "ipython",
    "version": 2
   },
   "file_extension": ".py",
   "mimetype": "text/x-python",
   "name": "python",
   "nbconvert_exporter": "python",
   "pygments_lexer": "ipython2",
   "version": "2.7.6"
  }
 },
 "nbformat": 4,
 "nbformat_minor": 5
}
