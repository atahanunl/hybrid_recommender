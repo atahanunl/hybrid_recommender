{
 "cells": [
  {
   "cell_type": "code",
   "execution_count": 1,
   "outputs": [],
   "source": [
    "# Import necessary libraries\n",
    "import pandas as pd"
   ],
   "metadata": {
    "collapsed": false,
    "ExecuteTime": {
     "end_time": "2023-11-23T20:56:21.072104Z",
     "start_time": "2023-11-23T20:56:20.280462Z"
    }
   },
   "id": "1f08a7a0c60adf2d"
  },
  {
   "cell_type": "markdown",
   "source": [
    "# 1. Introduction"
   ],
   "metadata": {
    "collapsed": false
   },
   "id": "7484a798b86591a"
  },
  {
   "cell_type": "markdown",
   "source": [
    "## 1.1 Business Problem\n",
    "\n",
    "The task is to make predictions for a user with a given ID using item-based recommendation methods. 5 recommendations should be provided."
   ],
   "metadata": {
    "collapsed": false
   },
   "id": "31a93fa1714b9fd7"
  },
  {
   "cell_type": "markdown",
   "source": [
    "## 1.2 Dataset Story\n",
    "\n",
    "The dataset has been furnished by MovieLens, a movie recommendation service. It comprises movies accompanied by the\n",
    "respective rating scores assigned to them. In total, the dataset incorporates 20,000,263 ratings spanning across 27,278\n",
    "movies. The dataset was curated on October 17, 2016, capturing data from 138,493 users within the period from January 9,\n",
    "1995, to March 31, 2015. The users were selected at random, and it is noted that each of the chosen users has provided\n",
    "ratings for a minimum of 20 movies."
   ],
   "metadata": {
    "collapsed": false
   },
   "id": "eee87a86d41bf3ad"
  },
  {
   "cell_type": "markdown",
   "source": [
    "## 1.3 Features\n",
    "\n",
    "`movie.csv`\n",
    "\n",
    "- `movieId` - Unique movie identifier\n",
    "- `title` - Movie title\n",
    "- `genres` - Genre\n",
    "\n",
    "`rating.csv`\n",
    "\n",
    "- `userid` - Unique user identifier\n",
    "- `movieId` - Unique movie identifier\n",
    "- `rating` - User-assigned rating for the film\n",
    "- `timestamp` - Date of the rating"
   ],
   "metadata": {
    "collapsed": false
   },
   "id": "7c5b1ac307ffc499"
  },
  {
   "cell_type": "markdown",
   "source": [
    "# 2. Data Handling"
   ],
   "metadata": {
    "collapsed": false
   },
   "id": "8d90294e8e35fbab"
  },
  {
   "cell_type": "markdown",
   "source": [
    "## 2.1 Loading Data"
   ],
   "metadata": {
    "collapsed": false
   },
   "id": "554e89e70fd8463a"
  },
  {
   "cell_type": "code",
   "execution_count": 2,
   "outputs": [],
   "source": [
    "# Load the dataset\n",
    "movies = pd.read_csv('movie.csv')\n",
    "ratings = pd.read_csv('rating.csv', parse_dates=['timestamp'])"
   ],
   "metadata": {
    "collapsed": false,
    "ExecuteTime": {
     "end_time": "2023-11-23T20:57:25.711947Z",
     "start_time": "2023-11-23T20:56:21.074935Z"
    }
   },
   "id": "4f93d159c1a71108"
  },
  {
   "cell_type": "code",
   "execution_count": 3,
   "outputs": [
    {
     "data": {
      "text/plain": "   movieId                               title  \\\n0        1                    Toy Story (1995)   \n1        2                      Jumanji (1995)   \n2        3             Grumpier Old Men (1995)   \n3        4            Waiting to Exhale (1995)   \n4        5  Father of the Bride Part II (1995)   \n\n                                        genres  \n0  Adventure|Animation|Children|Comedy|Fantasy  \n1                   Adventure|Children|Fantasy  \n2                               Comedy|Romance  \n3                         Comedy|Drama|Romance  \n4                                       Comedy  ",
      "text/html": "<div>\n<style scoped>\n    .dataframe tbody tr th:only-of-type {\n        vertical-align: middle;\n    }\n\n    .dataframe tbody tr th {\n        vertical-align: top;\n    }\n\n    .dataframe thead th {\n        text-align: right;\n    }\n</style>\n<table border=\"1\" class=\"dataframe\">\n  <thead>\n    <tr style=\"text-align: right;\">\n      <th></th>\n      <th>movieId</th>\n      <th>title</th>\n      <th>genres</th>\n    </tr>\n  </thead>\n  <tbody>\n    <tr>\n      <th>0</th>\n      <td>1</td>\n      <td>Toy Story (1995)</td>\n      <td>Adventure|Animation|Children|Comedy|Fantasy</td>\n    </tr>\n    <tr>\n      <th>1</th>\n      <td>2</td>\n      <td>Jumanji (1995)</td>\n      <td>Adventure|Children|Fantasy</td>\n    </tr>\n    <tr>\n      <th>2</th>\n      <td>3</td>\n      <td>Grumpier Old Men (1995)</td>\n      <td>Comedy|Romance</td>\n    </tr>\n    <tr>\n      <th>3</th>\n      <td>4</td>\n      <td>Waiting to Exhale (1995)</td>\n      <td>Comedy|Drama|Romance</td>\n    </tr>\n    <tr>\n      <th>4</th>\n      <td>5</td>\n      <td>Father of the Bride Part II (1995)</td>\n      <td>Comedy</td>\n    </tr>\n  </tbody>\n</table>\n</div>"
     },
     "execution_count": 3,
     "metadata": {},
     "output_type": "execute_result"
    }
   ],
   "source": [
    "# Display the first few rows\n",
    "movies.head()"
   ],
   "metadata": {
    "collapsed": false,
    "ExecuteTime": {
     "end_time": "2023-11-23T20:57:25.714301Z",
     "start_time": "2023-11-23T20:57:25.684918Z"
    }
   },
   "id": "48cba139d83b65a0"
  },
  {
   "cell_type": "code",
   "execution_count": 4,
   "outputs": [
    {
     "data": {
      "text/plain": "   userId  movieId  rating           timestamp\n0       1        2     3.5 2005-04-02 23:53:47\n1       1       29     3.5 2005-04-02 23:31:16\n2       1       32     3.5 2005-04-02 23:33:39\n3       1       47     3.5 2005-04-02 23:32:07\n4       1       50     3.5 2005-04-02 23:29:40",
      "text/html": "<div>\n<style scoped>\n    .dataframe tbody tr th:only-of-type {\n        vertical-align: middle;\n    }\n\n    .dataframe tbody tr th {\n        vertical-align: top;\n    }\n\n    .dataframe thead th {\n        text-align: right;\n    }\n</style>\n<table border=\"1\" class=\"dataframe\">\n  <thead>\n    <tr style=\"text-align: right;\">\n      <th></th>\n      <th>userId</th>\n      <th>movieId</th>\n      <th>rating</th>\n      <th>timestamp</th>\n    </tr>\n  </thead>\n  <tbody>\n    <tr>\n      <th>0</th>\n      <td>1</td>\n      <td>2</td>\n      <td>3.5</td>\n      <td>2005-04-02 23:53:47</td>\n    </tr>\n    <tr>\n      <th>1</th>\n      <td>1</td>\n      <td>29</td>\n      <td>3.5</td>\n      <td>2005-04-02 23:31:16</td>\n    </tr>\n    <tr>\n      <th>2</th>\n      <td>1</td>\n      <td>32</td>\n      <td>3.5</td>\n      <td>2005-04-02 23:33:39</td>\n    </tr>\n    <tr>\n      <th>3</th>\n      <td>1</td>\n      <td>47</td>\n      <td>3.5</td>\n      <td>2005-04-02 23:32:07</td>\n    </tr>\n    <tr>\n      <th>4</th>\n      <td>1</td>\n      <td>50</td>\n      <td>3.5</td>\n      <td>2005-04-02 23:29:40</td>\n    </tr>\n  </tbody>\n</table>\n</div>"
     },
     "execution_count": 4,
     "metadata": {},
     "output_type": "execute_result"
    }
   ],
   "source": [
    "# Display the first few rows\n",
    "ratings.head()"
   ],
   "metadata": {
    "collapsed": false,
    "ExecuteTime": {
     "end_time": "2023-11-23T20:57:25.714866Z",
     "start_time": "2023-11-23T20:57:25.685619Z"
    }
   },
   "id": "e8706c592b29ba40"
  },
  {
   "cell_type": "markdown",
   "source": [
    "## 2.2 Inspecting Data"
   ],
   "metadata": {
    "collapsed": false
   },
   "id": "62fd2ab7ff461602"
  },
  {
   "cell_type": "code",
   "execution_count": 5,
   "outputs": [
    {
     "data": {
      "text/plain": "             movieId\ncount   27278.000000\nmean    59855.480570\nstd     44429.314697\nmin         1.000000\n25%      6931.250000\n50%     68068.000000\n75%    100293.250000\nmax    131262.000000",
      "text/html": "<div>\n<style scoped>\n    .dataframe tbody tr th:only-of-type {\n        vertical-align: middle;\n    }\n\n    .dataframe tbody tr th {\n        vertical-align: top;\n    }\n\n    .dataframe thead th {\n        text-align: right;\n    }\n</style>\n<table border=\"1\" class=\"dataframe\">\n  <thead>\n    <tr style=\"text-align: right;\">\n      <th></th>\n      <th>movieId</th>\n    </tr>\n  </thead>\n  <tbody>\n    <tr>\n      <th>count</th>\n      <td>27278.000000</td>\n    </tr>\n    <tr>\n      <th>mean</th>\n      <td>59855.480570</td>\n    </tr>\n    <tr>\n      <th>std</th>\n      <td>44429.314697</td>\n    </tr>\n    <tr>\n      <th>min</th>\n      <td>1.000000</td>\n    </tr>\n    <tr>\n      <th>25%</th>\n      <td>6931.250000</td>\n    </tr>\n    <tr>\n      <th>50%</th>\n      <td>68068.000000</td>\n    </tr>\n    <tr>\n      <th>75%</th>\n      <td>100293.250000</td>\n    </tr>\n    <tr>\n      <th>max</th>\n      <td>131262.000000</td>\n    </tr>\n  </tbody>\n</table>\n</div>"
     },
     "execution_count": 5,
     "metadata": {},
     "output_type": "execute_result"
    }
   ],
   "source": [
    "# Display basic statistics about the dataset\n",
    "movies.describe()"
   ],
   "metadata": {
    "collapsed": false,
    "ExecuteTime": {
     "end_time": "2023-11-23T20:57:25.735590Z",
     "start_time": "2023-11-23T20:57:25.685867Z"
    }
   },
   "id": "f923bd99d6f1fb7a"
  },
  {
   "cell_type": "code",
   "execution_count": 6,
   "outputs": [
    {
     "data": {
      "text/plain": "             userId       movieId        rating\ncount  2.000026e+07  2.000026e+07  2.000026e+07\nmean   6.904587e+04  9.041567e+03  3.525529e+00\nstd    4.003863e+04  1.978948e+04  1.051989e+00\nmin    1.000000e+00  1.000000e+00  5.000000e-01\n25%    3.439500e+04  9.020000e+02  3.000000e+00\n50%    6.914100e+04  2.167000e+03  3.500000e+00\n75%    1.036370e+05  4.770000e+03  4.000000e+00\nmax    1.384930e+05  1.312620e+05  5.000000e+00",
      "text/html": "<div>\n<style scoped>\n    .dataframe tbody tr th:only-of-type {\n        vertical-align: middle;\n    }\n\n    .dataframe tbody tr th {\n        vertical-align: top;\n    }\n\n    .dataframe thead th {\n        text-align: right;\n    }\n</style>\n<table border=\"1\" class=\"dataframe\">\n  <thead>\n    <tr style=\"text-align: right;\">\n      <th></th>\n      <th>userId</th>\n      <th>movieId</th>\n      <th>rating</th>\n    </tr>\n  </thead>\n  <tbody>\n    <tr>\n      <th>count</th>\n      <td>2.000026e+07</td>\n      <td>2.000026e+07</td>\n      <td>2.000026e+07</td>\n    </tr>\n    <tr>\n      <th>mean</th>\n      <td>6.904587e+04</td>\n      <td>9.041567e+03</td>\n      <td>3.525529e+00</td>\n    </tr>\n    <tr>\n      <th>std</th>\n      <td>4.003863e+04</td>\n      <td>1.978948e+04</td>\n      <td>1.051989e+00</td>\n    </tr>\n    <tr>\n      <th>min</th>\n      <td>1.000000e+00</td>\n      <td>1.000000e+00</td>\n      <td>5.000000e-01</td>\n    </tr>\n    <tr>\n      <th>25%</th>\n      <td>3.439500e+04</td>\n      <td>9.020000e+02</td>\n      <td>3.000000e+00</td>\n    </tr>\n    <tr>\n      <th>50%</th>\n      <td>6.914100e+04</td>\n      <td>2.167000e+03</td>\n      <td>3.500000e+00</td>\n    </tr>\n    <tr>\n      <th>75%</th>\n      <td>1.036370e+05</td>\n      <td>4.770000e+03</td>\n      <td>4.000000e+00</td>\n    </tr>\n    <tr>\n      <th>max</th>\n      <td>1.384930e+05</td>\n      <td>1.312620e+05</td>\n      <td>5.000000e+00</td>\n    </tr>\n  </tbody>\n</table>\n</div>"
     },
     "execution_count": 6,
     "metadata": {},
     "output_type": "execute_result"
    }
   ],
   "source": [
    "# Display basic statistics about the dataset\n",
    "ratings.describe()"
   ],
   "metadata": {
    "collapsed": false,
    "ExecuteTime": {
     "end_time": "2023-11-23T20:57:28.133496Z",
     "start_time": "2023-11-23T20:57:25.720947Z"
    }
   },
   "id": "76d50a5286797291"
  },
  {
   "cell_type": "code",
   "execution_count": 7,
   "outputs": [
    {
     "name": "stdout",
     "output_type": "stream",
     "text": [
      "<class 'pandas.core.frame.DataFrame'>\n",
      "RangeIndex: 27278 entries, 0 to 27277\n",
      "Data columns (total 3 columns):\n",
      " #   Column   Non-Null Count  Dtype \n",
      "---  ------   --------------  ----- \n",
      " 0   movieId  27278 non-null  int64 \n",
      " 1   title    27278 non-null  object\n",
      " 2   genres   27278 non-null  object\n",
      "dtypes: int64(1), object(2)\n",
      "memory usage: 639.5+ KB\n"
     ]
    }
   ],
   "source": [
    "# Display information about the dataset\n",
    "movies.info()"
   ],
   "metadata": {
    "collapsed": false,
    "ExecuteTime": {
     "end_time": "2023-11-23T20:57:28.223477Z",
     "start_time": "2023-11-23T20:57:28.133379Z"
    }
   },
   "id": "96640ca79af63953"
  },
  {
   "cell_type": "code",
   "execution_count": 8,
   "outputs": [
    {
     "name": "stdout",
     "output_type": "stream",
     "text": [
      "<class 'pandas.core.frame.DataFrame'>\n",
      "RangeIndex: 20000263 entries, 0 to 20000262\n",
      "Data columns (total 4 columns):\n",
      " #   Column     Dtype         \n",
      "---  ------     -----         \n",
      " 0   userId     int64         \n",
      " 1   movieId    int64         \n",
      " 2   rating     float64       \n",
      " 3   timestamp  datetime64[ns]\n",
      "dtypes: datetime64[ns](1), float64(1), int64(2)\n",
      "memory usage: 610.4 MB\n"
     ]
    }
   ],
   "source": [
    "# Display information about the dataset\n",
    "ratings.info()"
   ],
   "metadata": {
    "collapsed": false,
    "ExecuteTime": {
     "end_time": "2023-11-23T20:57:28.239456Z",
     "start_time": "2023-11-23T20:57:28.182958Z"
    }
   },
   "id": "7ff091083e51d167"
  },
  {
   "cell_type": "code",
   "execution_count": 9,
   "outputs": [
    {
     "data": {
      "text/plain": "movieId    False\ntitle      False\ngenres     False\ndtype: bool"
     },
     "execution_count": 9,
     "metadata": {},
     "output_type": "execute_result"
    }
   ],
   "source": [
    "# Identify columns with null values\n",
    "movies.isnull().any()"
   ],
   "metadata": {
    "collapsed": false,
    "ExecuteTime": {
     "end_time": "2023-11-23T20:57:28.239946Z",
     "start_time": "2023-11-23T20:57:28.188868Z"
    }
   },
   "id": "dc246c28c52ea535"
  },
  {
   "cell_type": "code",
   "execution_count": 10,
   "outputs": [
    {
     "data": {
      "text/plain": "userId       False\nmovieId      False\nrating       False\ntimestamp    False\ndtype: bool"
     },
     "execution_count": 10,
     "metadata": {},
     "output_type": "execute_result"
    }
   ],
   "source": [
    "# Identify columns with null values\n",
    "ratings.isnull().any()"
   ],
   "metadata": {
    "collapsed": false,
    "ExecuteTime": {
     "end_time": "2023-11-23T20:57:28.359823Z",
     "start_time": "2023-11-23T20:57:28.207226Z"
    }
   },
   "id": "66bfb4db8b652dda"
  },
  {
   "cell_type": "code",
   "execution_count": 11,
   "outputs": [
    {
     "data": {
      "text/plain": "movieId    27278\ntitle      27262\ngenres      1342\ndtype: int64"
     },
     "execution_count": 11,
     "metadata": {},
     "output_type": "execute_result"
    }
   ],
   "source": [
    "# Get the number of unique values in each column\n",
    "movies.nunique()"
   ],
   "metadata": {
    "collapsed": false,
    "ExecuteTime": {
     "end_time": "2023-11-23T20:57:28.394713Z",
     "start_time": "2023-11-23T20:57:28.317743Z"
    }
   },
   "id": "50ea734647c6d330"
  },
  {
   "cell_type": "code",
   "execution_count": 12,
   "outputs": [
    {
     "data": {
      "text/plain": "userId         138493\nmovieId         26744\nrating             10\ntimestamp    15351121\ndtype: int64"
     },
     "execution_count": 12,
     "metadata": {},
     "output_type": "execute_result"
    }
   ],
   "source": [
    "# Get the number of unique values in each column\n",
    "ratings.nunique()"
   ],
   "metadata": {
    "collapsed": false,
    "ExecuteTime": {
     "end_time": "2023-11-23T20:57:33.722009Z",
     "start_time": "2023-11-23T20:57:28.369927Z"
    }
   },
   "id": "83a35c8a62465c54"
  },
  {
   "cell_type": "markdown",
   "source": [
    "## 2.3 Data Cleaning and Preprocessing"
   ],
   "metadata": {
    "collapsed": false
   },
   "id": "fbbda452b15809b9"
  },
  {
   "cell_type": "code",
   "execution_count": 13,
   "outputs": [
    {
     "data": {
      "text/plain": "   userId  movieId  rating           timestamp  \\\n0       1        2     3.5 2005-04-02 23:53:47   \n1       1       29     3.5 2005-04-02 23:31:16   \n2       1       32     3.5 2005-04-02 23:33:39   \n3       1       47     3.5 2005-04-02 23:32:07   \n4       1       50     3.5 2005-04-02 23:29:40   \n\n                                               title  \\\n0                                     Jumanji (1995)   \n1  City of Lost Children, The (Cité des enfants p...   \n2          Twelve Monkeys (a.k.a. 12 Monkeys) (1995)   \n3                        Seven (a.k.a. Se7en) (1995)   \n4                         Usual Suspects, The (1995)   \n\n                                   genres  \n0              Adventure|Children|Fantasy  \n1  Adventure|Drama|Fantasy|Mystery|Sci-Fi  \n2                 Mystery|Sci-Fi|Thriller  \n3                        Mystery|Thriller  \n4                  Crime|Mystery|Thriller  ",
      "text/html": "<div>\n<style scoped>\n    .dataframe tbody tr th:only-of-type {\n        vertical-align: middle;\n    }\n\n    .dataframe tbody tr th {\n        vertical-align: top;\n    }\n\n    .dataframe thead th {\n        text-align: right;\n    }\n</style>\n<table border=\"1\" class=\"dataframe\">\n  <thead>\n    <tr style=\"text-align: right;\">\n      <th></th>\n      <th>userId</th>\n      <th>movieId</th>\n      <th>rating</th>\n      <th>timestamp</th>\n      <th>title</th>\n      <th>genres</th>\n    </tr>\n  </thead>\n  <tbody>\n    <tr>\n      <th>0</th>\n      <td>1</td>\n      <td>2</td>\n      <td>3.5</td>\n      <td>2005-04-02 23:53:47</td>\n      <td>Jumanji (1995)</td>\n      <td>Adventure|Children|Fantasy</td>\n    </tr>\n    <tr>\n      <th>1</th>\n      <td>1</td>\n      <td>29</td>\n      <td>3.5</td>\n      <td>2005-04-02 23:31:16</td>\n      <td>City of Lost Children, The (Cité des enfants p...</td>\n      <td>Adventure|Drama|Fantasy|Mystery|Sci-Fi</td>\n    </tr>\n    <tr>\n      <th>2</th>\n      <td>1</td>\n      <td>32</td>\n      <td>3.5</td>\n      <td>2005-04-02 23:33:39</td>\n      <td>Twelve Monkeys (a.k.a. 12 Monkeys) (1995)</td>\n      <td>Mystery|Sci-Fi|Thriller</td>\n    </tr>\n    <tr>\n      <th>3</th>\n      <td>1</td>\n      <td>47</td>\n      <td>3.5</td>\n      <td>2005-04-02 23:32:07</td>\n      <td>Seven (a.k.a. Se7en) (1995)</td>\n      <td>Mystery|Thriller</td>\n    </tr>\n    <tr>\n      <th>4</th>\n      <td>1</td>\n      <td>50</td>\n      <td>3.5</td>\n      <td>2005-04-02 23:29:40</td>\n      <td>Usual Suspects, The (1995)</td>\n      <td>Crime|Mystery|Thriller</td>\n    </tr>\n  </tbody>\n</table>\n</div>"
     },
     "execution_count": 13,
     "metadata": {},
     "output_type": "execute_result"
    }
   ],
   "source": [
    "# Merge movies onto ratings\n",
    "data = ratings.merge(movies, on='movieId', how='left')\n",
    "\n",
    "# Display the merged DataFrame\n",
    "data.head()"
   ],
   "metadata": {
    "collapsed": false,
    "ExecuteTime": {
     "end_time": "2023-11-23T20:57:39.726706Z",
     "start_time": "2023-11-23T20:57:33.724739Z"
    }
   },
   "id": "8b4e2a1aedd64562"
  },
  {
   "cell_type": "code",
   "execution_count": 14,
   "outputs": [
    {
     "data": {
      "text/plain": "   userId  movieId  rating           timestamp  \\\n0       1        2     3.5 2005-04-02 23:53:47   \n1       1       29     3.5 2005-04-02 23:31:16   \n2       1       32     3.5 2005-04-02 23:33:39   \n3       1       47     3.5 2005-04-02 23:32:07   \n4       1       50     3.5 2005-04-02 23:29:40   \n\n                                               title  \\\n0                                     Jumanji (1995)   \n1  City of Lost Children, The (Cité des enfants p...   \n2          Twelve Monkeys (a.k.a. 12 Monkeys) (1995)   \n3                        Seven (a.k.a. Se7en) (1995)   \n4                         Usual Suspects, The (1995)   \n\n                                   genres  \n0              Adventure|Children|Fantasy  \n1  Adventure|Drama|Fantasy|Mystery|Sci-Fi  \n2                 Mystery|Sci-Fi|Thriller  \n3                        Mystery|Thriller  \n4                  Crime|Mystery|Thriller  ",
      "text/html": "<div>\n<style scoped>\n    .dataframe tbody tr th:only-of-type {\n        vertical-align: middle;\n    }\n\n    .dataframe tbody tr th {\n        vertical-align: top;\n    }\n\n    .dataframe thead th {\n        text-align: right;\n    }\n</style>\n<table border=\"1\" class=\"dataframe\">\n  <thead>\n    <tr style=\"text-align: right;\">\n      <th></th>\n      <th>userId</th>\n      <th>movieId</th>\n      <th>rating</th>\n      <th>timestamp</th>\n      <th>title</th>\n      <th>genres</th>\n    </tr>\n  </thead>\n  <tbody>\n    <tr>\n      <th>0</th>\n      <td>1</td>\n      <td>2</td>\n      <td>3.5</td>\n      <td>2005-04-02 23:53:47</td>\n      <td>Jumanji (1995)</td>\n      <td>Adventure|Children|Fantasy</td>\n    </tr>\n    <tr>\n      <th>1</th>\n      <td>1</td>\n      <td>29</td>\n      <td>3.5</td>\n      <td>2005-04-02 23:31:16</td>\n      <td>City of Lost Children, The (Cité des enfants p...</td>\n      <td>Adventure|Drama|Fantasy|Mystery|Sci-Fi</td>\n    </tr>\n    <tr>\n      <th>2</th>\n      <td>1</td>\n      <td>32</td>\n      <td>3.5</td>\n      <td>2005-04-02 23:33:39</td>\n      <td>Twelve Monkeys (a.k.a. 12 Monkeys) (1995)</td>\n      <td>Mystery|Sci-Fi|Thriller</td>\n    </tr>\n    <tr>\n      <th>3</th>\n      <td>1</td>\n      <td>47</td>\n      <td>3.5</td>\n      <td>2005-04-02 23:32:07</td>\n      <td>Seven (a.k.a. Se7en) (1995)</td>\n      <td>Mystery|Thriller</td>\n    </tr>\n    <tr>\n      <th>4</th>\n      <td>1</td>\n      <td>50</td>\n      <td>3.5</td>\n      <td>2005-04-02 23:29:40</td>\n      <td>Usual Suspects, The (1995)</td>\n      <td>Crime|Mystery|Thriller</td>\n    </tr>\n  </tbody>\n</table>\n</div>"
     },
     "execution_count": 14,
     "metadata": {},
     "output_type": "execute_result"
    }
   ],
   "source": [
    "# Create DataFrame with counts of votes for each movie\n",
    "vote_counts = pd.DataFrame(data['movieId'].value_counts())\n",
    "\n",
    "# Select movies with vote counts equal to or exceeding 1000\n",
    "popular_movies = vote_counts[vote_counts['movieId'] >= 1000]\n",
    "\n",
    "# Filter original data to include only popular movies\n",
    "popular_movies = data[data['movieId'].isin(popular_movies.index)]\n",
    "\n",
    "# Display popular movies\n",
    "popular_movies.head()"
   ],
   "metadata": {
    "collapsed": false,
    "ExecuteTime": {
     "end_time": "2023-11-23T20:57:43.279077Z",
     "start_time": "2023-11-23T20:57:40.661288Z"
    }
   },
   "id": "1d635c8b2acd889"
  },
  {
   "cell_type": "code",
   "execution_count": 15,
   "outputs": [
    {
     "data": {
      "text/plain": "title   'burbs, The (1989)  (500) Days of Summer (2009)  \\\nuserId                                                    \n1                      NaN                          NaN   \n2                      NaN                          NaN   \n3                      NaN                          NaN   \n4                      NaN                          NaN   \n5                      NaN                          NaN   \n\ntitle   *batteries not included (1987)  ...And Justice for All (1979)  \\\nuserId                                                                  \n1                                  NaN                            NaN   \n2                                  NaN                            NaN   \n3                                  NaN                            NaN   \n4                                  NaN                            NaN   \n5                                  NaN                            NaN   \n\ntitle   10 Things I Hate About You (1999)  10,000 BC (2008)  \\\nuserId                                                        \n1                                     NaN               NaN   \n2                                     NaN               NaN   \n3                                     NaN               NaN   \n4                                     NaN               NaN   \n5                                     NaN               NaN   \n\ntitle   101 Dalmatians (1996)  \\\nuserId                          \n1                         NaN   \n2                         NaN   \n3                         NaN   \n4                         NaN   \n5                         NaN   \n\ntitle   101 Dalmatians (One Hundred and One Dalmatians) (1961)  \\\nuserId                                                           \n1                                                     NaN        \n2                                                     NaN        \n3                                                     NaN        \n4                                                     NaN        \n5                                                     NaN        \n\ntitle   102 Dalmatians (2000)  12 Angry Men (1957)  ...  \\\nuserId                                              ...   \n1                         NaN                  NaN  ...   \n2                         NaN                  NaN  ...   \n3                         NaN                  NaN  ...   \n4                         NaN                  NaN  ...   \n5                         NaN                  NaN  ...   \n\ntitle   Zero Dark Thirty (2012)  Zero Effect (1998)  Zodiac (2007)  \\\nuserId                                                               \n1                           NaN                 NaN            NaN   \n2                           NaN                 NaN            NaN   \n3                           NaN                 NaN            NaN   \n4                           NaN                 NaN            NaN   \n5                           NaN                 NaN            NaN   \n\ntitle   Zombieland (2009)  Zoolander (2001)  Zulu (1964)  [REC] (2007)  \\\nuserId                                                                   \n1                     NaN               NaN          NaN           NaN   \n2                     NaN               NaN          NaN           NaN   \n3                     NaN               NaN          NaN           NaN   \n4                     NaN               NaN          NaN           NaN   \n5                     NaN               NaN          NaN           NaN   \n\ntitle   eXistenZ (1999)  xXx (2002)  ¡Three Amigos! (1986)  \nuserId                                                      \n1                   NaN         NaN                    NaN  \n2                   NaN         NaN                    NaN  \n3                   NaN         NaN                    NaN  \n4                   NaN         NaN                    NaN  \n5                   NaN         NaN                    NaN  \n\n[5 rows x 3159 columns]",
      "text/html": "<div>\n<style scoped>\n    .dataframe tbody tr th:only-of-type {\n        vertical-align: middle;\n    }\n\n    .dataframe tbody tr th {\n        vertical-align: top;\n    }\n\n    .dataframe thead th {\n        text-align: right;\n    }\n</style>\n<table border=\"1\" class=\"dataframe\">\n  <thead>\n    <tr style=\"text-align: right;\">\n      <th>title</th>\n      <th>'burbs, The (1989)</th>\n      <th>(500) Days of Summer (2009)</th>\n      <th>*batteries not included (1987)</th>\n      <th>...And Justice for All (1979)</th>\n      <th>10 Things I Hate About You (1999)</th>\n      <th>10,000 BC (2008)</th>\n      <th>101 Dalmatians (1996)</th>\n      <th>101 Dalmatians (One Hundred and One Dalmatians) (1961)</th>\n      <th>102 Dalmatians (2000)</th>\n      <th>12 Angry Men (1957)</th>\n      <th>...</th>\n      <th>Zero Dark Thirty (2012)</th>\n      <th>Zero Effect (1998)</th>\n      <th>Zodiac (2007)</th>\n      <th>Zombieland (2009)</th>\n      <th>Zoolander (2001)</th>\n      <th>Zulu (1964)</th>\n      <th>[REC] (2007)</th>\n      <th>eXistenZ (1999)</th>\n      <th>xXx (2002)</th>\n      <th>¡Three Amigos! (1986)</th>\n    </tr>\n    <tr>\n      <th>userId</th>\n      <th></th>\n      <th></th>\n      <th></th>\n      <th></th>\n      <th></th>\n      <th></th>\n      <th></th>\n      <th></th>\n      <th></th>\n      <th></th>\n      <th></th>\n      <th></th>\n      <th></th>\n      <th></th>\n      <th></th>\n      <th></th>\n      <th></th>\n      <th></th>\n      <th></th>\n      <th></th>\n      <th></th>\n    </tr>\n  </thead>\n  <tbody>\n    <tr>\n      <th>1</th>\n      <td>NaN</td>\n      <td>NaN</td>\n      <td>NaN</td>\n      <td>NaN</td>\n      <td>NaN</td>\n      <td>NaN</td>\n      <td>NaN</td>\n      <td>NaN</td>\n      <td>NaN</td>\n      <td>NaN</td>\n      <td>...</td>\n      <td>NaN</td>\n      <td>NaN</td>\n      <td>NaN</td>\n      <td>NaN</td>\n      <td>NaN</td>\n      <td>NaN</td>\n      <td>NaN</td>\n      <td>NaN</td>\n      <td>NaN</td>\n      <td>NaN</td>\n    </tr>\n    <tr>\n      <th>2</th>\n      <td>NaN</td>\n      <td>NaN</td>\n      <td>NaN</td>\n      <td>NaN</td>\n      <td>NaN</td>\n      <td>NaN</td>\n      <td>NaN</td>\n      <td>NaN</td>\n      <td>NaN</td>\n      <td>NaN</td>\n      <td>...</td>\n      <td>NaN</td>\n      <td>NaN</td>\n      <td>NaN</td>\n      <td>NaN</td>\n      <td>NaN</td>\n      <td>NaN</td>\n      <td>NaN</td>\n      <td>NaN</td>\n      <td>NaN</td>\n      <td>NaN</td>\n    </tr>\n    <tr>\n      <th>3</th>\n      <td>NaN</td>\n      <td>NaN</td>\n      <td>NaN</td>\n      <td>NaN</td>\n      <td>NaN</td>\n      <td>NaN</td>\n      <td>NaN</td>\n      <td>NaN</td>\n      <td>NaN</td>\n      <td>NaN</td>\n      <td>...</td>\n      <td>NaN</td>\n      <td>NaN</td>\n      <td>NaN</td>\n      <td>NaN</td>\n      <td>NaN</td>\n      <td>NaN</td>\n      <td>NaN</td>\n      <td>NaN</td>\n      <td>NaN</td>\n      <td>NaN</td>\n    </tr>\n    <tr>\n      <th>4</th>\n      <td>NaN</td>\n      <td>NaN</td>\n      <td>NaN</td>\n      <td>NaN</td>\n      <td>NaN</td>\n      <td>NaN</td>\n      <td>NaN</td>\n      <td>NaN</td>\n      <td>NaN</td>\n      <td>NaN</td>\n      <td>...</td>\n      <td>NaN</td>\n      <td>NaN</td>\n      <td>NaN</td>\n      <td>NaN</td>\n      <td>NaN</td>\n      <td>NaN</td>\n      <td>NaN</td>\n      <td>NaN</td>\n      <td>NaN</td>\n      <td>NaN</td>\n    </tr>\n    <tr>\n      <th>5</th>\n      <td>NaN</td>\n      <td>NaN</td>\n      <td>NaN</td>\n      <td>NaN</td>\n      <td>NaN</td>\n      <td>NaN</td>\n      <td>NaN</td>\n      <td>NaN</td>\n      <td>NaN</td>\n      <td>NaN</td>\n      <td>...</td>\n      <td>NaN</td>\n      <td>NaN</td>\n      <td>NaN</td>\n      <td>NaN</td>\n      <td>NaN</td>\n      <td>NaN</td>\n      <td>NaN</td>\n      <td>NaN</td>\n      <td>NaN</td>\n      <td>NaN</td>\n    </tr>\n  </tbody>\n</table>\n<p>5 rows × 3159 columns</p>\n</div>"
     },
     "execution_count": 15,
     "metadata": {},
     "output_type": "execute_result"
    }
   ],
   "source": [
    "# Create user-movie pivot table with ratings\n",
    "user_movie_table = popular_movies.pivot_table(values='rating', index='userId', columns='title')\n",
    "\n",
    "# Display pivot table\n",
    "user_movie_table.head()"
   ],
   "metadata": {
    "collapsed": false,
    "ExecuteTime": {
     "end_time": "2023-11-23T20:58:54.577478Z",
     "start_time": "2023-11-23T20:57:43.711648Z"
    }
   },
   "id": "3d2bac4b1e59a39e"
  },
  {
   "cell_type": "code",
   "execution_count": 16,
   "outputs": [],
   "source": [
    "# Select a random user from the data\n",
    "random_user = 32344\n",
    "\n",
    "# Find the latest 5-star rated movie by the user\n",
    "user_top_pick = \\\n",
    "    data[(data['userId'] == random_user) & (data['rating'] == 5)].sort_values(by='timestamp', ascending=False).head(1)[\n",
    "        'movieId'].values[0]"
   ],
   "metadata": {
    "collapsed": false,
    "ExecuteTime": {
     "end_time": "2023-11-23T20:58:55.430101Z",
     "start_time": "2023-11-23T20:58:54.565664Z"
    }
   },
   "id": "d483fc31372ff120"
  },
  {
   "cell_type": "code",
   "execution_count": 17,
   "outputs": [],
   "source": [
    "# Filter table by movieId\n",
    "filtered_table = user_movie_table[movies[movies['movieId'] == user_top_pick]['title'].values[0]]"
   ],
   "metadata": {
    "collapsed": false,
    "ExecuteTime": {
     "end_time": "2023-11-23T20:58:55.566083Z",
     "start_time": "2023-11-23T20:58:55.082036Z"
    }
   },
   "id": "31e03c80c83df386"
  },
  {
   "cell_type": "markdown",
   "source": [
    "# 3. Data Analysis"
   ],
   "metadata": {
    "collapsed": false
   },
   "id": "2a6b4d0b353464e6"
  },
  {
   "cell_type": "code",
   "execution_count": 18,
   "outputs": [
    {
     "data": {
      "text/plain": "title\nSwan Princess, The (1994)           0.507791\nInvisible Man, The (1933)           0.505499\nIp Man (2008)                       0.479452\nGeneral, The (1926)                 0.463442\n7th Voyage of Sinbad, The (1958)    0.439900\ndtype: float64"
     },
     "execution_count": 18,
     "metadata": {},
     "output_type": "execute_result"
    }
   ],
   "source": [
    "# Calculate movie correlations with the user's top pick for recommendations\n",
    "user_movie_table.corrwith(filtered_table).sort_values(ascending=False)[1:6]"
   ],
   "metadata": {
    "collapsed": false,
    "ExecuteTime": {
     "end_time": "2023-11-23T20:59:06.414144Z",
     "start_time": "2023-11-23T20:58:55.093220Z"
    }
   },
   "id": "b2e233a55d6f9ae"
  }
 ],
 "metadata": {
  "kernelspec": {
   "display_name": "Python 3",
   "language": "python",
   "name": "python3"
  },
  "language_info": {
   "codemirror_mode": {
    "name": "ipython",
    "version": 2
   },
   "file_extension": ".py",
   "mimetype": "text/x-python",
   "name": "python",
   "nbconvert_exporter": "python",
   "pygments_lexer": "ipython2",
   "version": "2.7.6"
  }
 },
 "nbformat": 4,
 "nbformat_minor": 5
}
